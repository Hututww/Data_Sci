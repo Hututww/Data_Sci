{
 "cells": [
  {
   "cell_type": "markdown",
   "id": "d7c35f7b-b870-40db-9490-798a15aa115b",
   "metadata": {
    "id": "d7c35f7b-b870-40db-9490-798a15aa115b"
   },
   "source": [
    "# 2024秋材料数据科学-上机练习：Pandas模块\n",
    "\n"
   ]
  },
  {
   "cell_type": "markdown",
   "id": "8efb1566-e5f7-4141-8c7e-226177c3699b",
   "metadata": {
    "id": "8efb1566-e5f7-4141-8c7e-226177c3699b"
   },
   "source": [
    "<div style=\"color:black; background-color:#FFF3E9; border: 1px solid #FFE0C3; border-radius: 10px; margin-bottom:1rem\">\n",
    "    <p style=\"margin:1rem; padding-left: 1rem; line-height: 2.5;\">\n",
    "        ©️ <b><i>Copyright 2024 @ Authors</i></b><br/>\n",
    "        作者：<a style=\"font-weight:bold\" href=\"mailto:bshan@mail.hust.edu.cn\">羡秭琪 </a>，<a style=\"font-weight:bold\" href=\"mailto:bshan@mail.hust.edu.cn\">斯坦福大厨 📨 </a><br>\n",
    "        日期：2024-09-28<br/>\n",
    "        <img src=\"https://github.com/stanfordbshan/CompMatBook/blob/main/author.png?raw=true\" width=\"100\"/>\n",
    "        共享协议：本作品采用<a rel=\"license\" href=\"http://creativecommons.org/licenses/by-nc-sa/4.0/\">知识共享署名-非商业性使用-相同方式共享 4.0 国际许可协议</a>进行许可。</i><br/>\n",
    "        快速开始：点击上方的 <span style=\"background-color:rgb(85, 91, 228); color:white; padding: 3px; border-radius: 5px;box-shadow: 2px 2px 3px rgba(0, 0, 0, 0.3); font-size:0.75rem;\">开始连接</span> 按钮，选择 <span style='color:rgb(85,91,228); font-weight:bold'>comput-mater:0512v2\t</span> 镜像及 <span style='color:rgb(85,91,228); font-weight:bold'>c2_m4_cpu</span> 节点配置即可开始运行。<br/>\n",
    "        上机练习：为了使你更深入地理解计算的流程并体会动手完成计算的快乐，在上机练习中我们设置了一些互动环节：当你看到<span style='color:red; font-weight:bold'>--请填写--</span>这个标记时，说明下方的代码单元格需要（或者部分需要）自己填写，同时我们将答案放在了再下一行的<b>隐藏单元格</b>中。<br>\n",
    "    </p>\n",
    "</div>\n",
    "\n",
    "恭喜您已经发现了这份神奇的计算材料学课件！这份课件是我在熬夜吃掉不计其数的披萨和咖啡后创作出来的，配套的教材是由单斌、陈征征、陈蓉合著的《计算材料学--从算法原理到代码实现》。学习资料合集您可以在这个网址找到：[www.materialssimulation.com/book](http://www.materialssimulation.com/book)，您也可以跟着up主[无人问津晦涩难懂的B站视频](https://space.bilibili.com/1111135013/channel/collectiondetail?sid=1458375)一起进行学习。希望它能帮您在计算材料学的道路上摔得不那么痛。\n",
    "\n",
    "就像您尊重那些一边烘焙披萨一边写代码的大厨一样，当您使用这份课件时，请：\n",
    "\n",
    "- 记得告诉大家这份课件是斯坦福大厨写的，并且他在华中科技大学微纳中心工作\n",
    "- 别用它去赚大钱，这个课件是用来学习的，不是用来买披萨的\n",
    "- 保持开放共享的精神\n",
    "\n",
    "\n",
    "\n",
    "\n",
    "如果你有关于计算材料学的想法，或者你只是想和我讨论最好吃的披萨口味，欢迎通过邮件 bshan@mail.hust.edu.cn 联系我。\n",
    "\n"
   ]
  },
  {
   "cell_type": "markdown",
   "id": "c27a5c23",
   "metadata": {
    "id": "c27a5c23"
   },
   "source": [
    "# Pandas 模块详解教程\n",
    "\n",
    "---\n",
    "\n",
    "## 目录\n",
    "\n",
    "1. [引言](#引言)\n",
    "2. [Pandas简介](#Pandas简介)\n",
    "3. [安装与导入](#安装与导入)\n",
    "4. [基本数据结构](#基本数据结构)\n",
    "   - [Series](#Series)\n",
    "   - [DataFrame](#DataFrame)\n",
    "5. [创建对象](#创建对象)\n",
    "   - [从列表或数组创建](#从列表或数组创建)\n",
    "   - [从字典创建](#从字典创建)\n",
    "   - [从文件读取数据](#从文件读取数据)\n",
    "6. [数据查看与选择](#数据查看与选择)\n",
    "   - [查看数据](#查看数据)\n",
    "   - [选择数据](#选择数据)\n",
    "7. [数据清洗与预处理](#数据清洗与预处理)\n",
    "   - [处理缺失值](#处理缺失值)\n",
    "   - [数据转换](#数据转换)\n",
    "8. [数据分析与操作](#数据分析与操作)\n",
    "   - [描述性统计](#描述性统计)\n",
    "   - [分组与聚合](#分组与聚合)\n",
    "   - [合并与连接](#合并与连接)\n",
    "9. [数据可视化](#数据可视化)\n",
    "10. [实战案例](#实战案例)\n",
    "    - [案例一：股票数据分析](#案例一：股票数据分析)\n",
    "    - [案例二：电影数据分析](#案例二：电影数据分析)\n",
    "11. [总结](#总结)\n",
    "12. [参考文献](#参考文献)\n",
    "\n",
    "---\n",
    "\n",
    "## 引言\n",
    "\n",
    "Pandas是Python中最流行的数据分析库之一，提供了高性能、易用的数据结构和数据分析工具。对于数据科学家和分析师来说，掌握Pandas是必不可少的。本教程将详细介绍Pandas的各个功能模块，配以丰富的示例，帮助您深入理解和实践。\n",
    "\n",
    "## Pandas简介\n",
    "\n",
    "Pandas名字来源于“Panel Data”（面板数据），旨在为Python提供类似于R语言中的数据分析功能。它基于NumPy构建，提供了高效的数据操作和分析能力，主要特点包括：\n",
    "\n",
    "- **快速高效的DataFrame对象**：用于数据操作和分析。\n",
    "- **灵活的数据读取和存储**：支持CSV、Excel、SQL数据库等多种格式。\n",
    "- **丰富的数据操作功能**：包括过滤、聚合、合并、转换等。\n",
    "\n",
    "## 安装与导入\n",
    "\n",
    "### 安装\n",
    "\n",
    "在开始使用Pandas之前，需要确保已安装。使用以下命令进行安装："
   ]
  },
  {
   "cell_type": "markdown",
   "id": "6badbd56",
   "metadata": {
    "id": "6badbd56"
   },
   "source": [
    "%%bash\n",
    "\n",
    "pip install pandas"
   ]
  },
  {
   "cell_type": "markdown",
   "id": "1e9542ea",
   "metadata": {
    "id": "1e9542ea"
   },
   "source": [
    "或者使用conda："
   ]
  },
  {
   "cell_type": "markdown",
   "id": "afbdc5a5",
   "metadata": {
    "id": "afbdc5a5"
   },
   "source": [
    "%%bash\n",
    "\n",
    "conda install pandas"
   ]
  },
  {
   "cell_type": "markdown",
   "id": "7eced178",
   "metadata": {
    "id": "7eced178"
   },
   "source": [
    "### 导入\n",
    "\n",
    "在Python脚本或交互式环境中，通常使用如下方式导入Pandas："
   ]
  },
  {
   "cell_type": "code",
   "execution_count": 39,
   "id": "f5230d8c",
   "metadata": {
    "id": "f5230d8c"
   },
   "outputs": [],
   "source": [
    "import pandas as pd"
   ]
  },
  {
   "cell_type": "markdown",
   "id": "8544dd07",
   "metadata": {
    "id": "8544dd07"
   },
   "source": [
    "## 基本数据结构\n",
    "\n",
    "Pandas主要有两个数据结构：`Series`和`DataFrame`。\n",
    "\n",
    "### Series\n",
    "\n",
    "`Series`是一维的标记数组，可以存储任何数据类型。"
   ]
  },
  {
   "cell_type": "code",
   "execution_count": 40,
   "id": "2b9da8ee",
   "metadata": {
    "colab": {
     "base_uri": "https://localhost:8080/"
    },
    "id": "2b9da8ee",
    "outputId": "cb9eb31c-76ec-48d9-a7a5-4c56eb21cf94"
   },
   "outputs": [
    {
     "name": "stdout",
     "output_type": "stream",
     "text": [
      "0    1.0\n",
      "1    3.0\n",
      "2    5.0\n",
      "3    NaN\n",
      "4    6.0\n",
      "5    8.0\n",
      "dtype: float64\n"
     ]
    }
   ],
   "source": [
    "import numpy as np\n",
    "import pandas as pd\n",
    "\n",
    "# 创建一个简单的Series\n",
    "s = pd.Series([1, 3, 5, np.nan, 6, 8])\n",
    "print(s)"
   ]
  },
  {
   "cell_type": "markdown",
   "id": "c3f6786d",
   "metadata": {
    "id": "c3f6786d"
   },
   "source": [
    "输出：\n",
    "\n",
    "```\n",
    "0    1.0\n",
    "1    3.0\n",
    "2    5.0\n",
    "3    NaN\n",
    "4    6.0\n",
    "5    8.0\n",
    "dtype: float64\n",
    "```\n",
    "\n",
    "### DataFrame\n",
    "\n",
    "`DataFrame`是一个二维的表格数据结构，包含行索引和列标签。"
   ]
  },
  {
   "cell_type": "code",
   "execution_count": 41,
   "id": "23483477",
   "metadata": {
    "colab": {
     "base_uri": "https://localhost:8080/"
    },
    "id": "23483477",
    "outputId": "398eac9c-c584-418b-a8da-54cf3c1af5b9"
   },
   "outputs": [
    {
     "name": "stdout",
     "output_type": "stream",
     "text": [
      "                   A         B         C         D\n",
      "2023-01-01 -0.899034  0.381143 -1.398847 -0.723757\n",
      "2023-01-02 -1.014037 -1.331824  0.234570 -0.688791\n",
      "2023-01-03  1.444516 -1.091413 -0.423398 -1.191984\n",
      "2023-01-04  0.738257  1.836211 -0.387941  0.411285\n",
      "2023-01-05  0.820015  1.105698  1.273278 -0.633648\n",
      "2023-01-06  1.982423 -0.652002  0.281291  0.668719\n"
     ]
    }
   ],
   "source": [
    "# 创建一个简单的DataFrame\n",
    "dates = pd.date_range('20230101', periods=6)\n",
    "df = pd.DataFrame(np.random.randn(6,4), index=dates, columns=list('ABCD'))\n",
    "print(df)"
   ]
  },
  {
   "cell_type": "markdown",
   "id": "39378913",
   "metadata": {
    "id": "39378913"
   },
   "source": [
    "输出示例：\n",
    "\n",
    "```\n",
    "                   A         B         C         D\n",
    "2023-01-01  0.477565 -1.561718 -0.209647 -0.511151\n",
    "2023-01-02 -0.246607  1.620303  1.058595  0.822228\n",
    "2023-01-03 -0.351853 -1.233474 -1.007207 -0.882713\n",
    "2023-01-04  0.017662 -0.001910  0.385766  0.096045\n",
    "2023-01-05 -0.028753  0.708866  0.243584 -1.625386\n",
    "2023-01-06 -1.016768 -0.474398 -0.432540 -1.036968\n",
    "```\n",
    "\n",
    "## 创建对象\n",
    "\n",
    "### 从列表或数组创建"
   ]
  },
  {
   "cell_type": "code",
   "execution_count": 42,
   "id": "60cc3fc8",
   "metadata": {
    "colab": {
     "base_uri": "https://localhost:8080/"
    },
    "id": "60cc3fc8",
    "outputId": "6e4a5657-736d-4614-c1d5-98fea9899eee"
   },
   "outputs": [
    {
     "name": "stdout",
     "output_type": "stream",
     "text": [
      "0    1\n",
      "1    2\n",
      "2    3\n",
      "3    4\n",
      "4    5\n",
      "dtype: int64\n"
     ]
    }
   ],
   "source": [
    "data = [1, 2, 3, 4, 5]\n",
    "s = pd.Series(data)\n",
    "print(s)"
   ]
  },
  {
   "cell_type": "markdown",
   "id": "d93fd36f",
   "metadata": {
    "id": "d93fd36f"
   },
   "source": [
    "### 从字典创建"
   ]
  },
  {
   "cell_type": "code",
   "execution_count": 43,
   "id": "a1505757",
   "metadata": {
    "colab": {
     "base_uri": "https://localhost:8080/"
    },
    "id": "a1505757",
    "outputId": "ee351cd5-20e0-4117-a1e5-91dc3fa8d925"
   },
   "outputs": [
    {
     "name": "stdout",
     "output_type": "stream",
     "text": [
      "    Name  Age\n",
      "0    Tom   28\n",
      "1  Jerry   35\n",
      "2   Mike   42\n"
     ]
    }
   ],
   "source": [
    "data = {'Name': ['Tom', 'Jerry', 'Mike'], 'Age': [28, 35, 42]}\n",
    "df = pd.DataFrame(data)\n",
    "print(df)"
   ]
  },
  {
   "cell_type": "markdown",
   "id": "b37f2b2e",
   "metadata": {
    "id": "b37f2b2e"
   },
   "source": [
    "### 从文件读取数据"
   ]
  },
  {
   "cell_type": "code",
   "execution_count": 44,
   "id": "301b7e68-02e2-4a7d-a38b-5287706e08c2",
   "metadata": {},
   "outputs": [
    {
     "name": "stdout",
     "output_type": "stream",
     "text": [
      "Requirement already satisfied: openpyxl in d:\\anaconda\\lib\\site-packages (3.1.5)\n",
      "Requirement already satisfied: et-xmlfile in d:\\anaconda\\lib\\site-packages (from openpyxl) (1.1.0)\n",
      "Note: you may need to restart the kernel to use updated packages.\n"
     ]
    }
   ],
   "source": [
    "pip install openpyxl"
   ]
  },
  {
   "cell_type": "code",
   "execution_count": 45,
   "id": "Q4oH9Fu07UbV",
   "metadata": {
    "id": "Q4oH9Fu07UbV"
   },
   "outputs": [],
   "source": [
    "import pandas as pd\n",
    "import numpy as np\n",
    "import sqlite3\n",
    "\n",
    "# 创建示例DataFrame\n",
    "data = {\n",
    "    'Name': ['张三', '李四', '王五', '赵六', '孙七'],\n",
    "    'Age': [23, 30, 45, 22, 35],\n",
    "    'City': ['北京', '上海', '广州', '深圳', '杭州'],\n",
    "    'Salary': [7000, 8000, 12000, 6000, 8500]\n",
    "}\n",
    "df_sample = pd.DataFrame(data)\n",
    "\n",
    "# 保存为CSV文件\n",
    "df_sample.to_csv('data.csv', index=False)\n",
    "\n",
    "# 保存为Excel文件\n",
    "df_sample.to_excel('data.xlsx', index=False)\n",
    "\n",
    "# 保存到SQLite数据库\n",
    "conn = sqlite3.connect('database.db')\n",
    "df_sample.to_sql('table_name', conn, if_exists='replace', index=False)\n",
    "conn.close()\n"
   ]
  },
  {
   "cell_type": "code",
   "execution_count": 46,
   "id": "84da7d32",
   "metadata": {
    "id": "84da7d32"
   },
   "outputs": [],
   "source": [
    "# 读取CSV文件\n",
    "df = pd.read_csv('data.csv')\n",
    "\n",
    "# 读取Excel文件\n",
    "df = pd.read_excel('data.xlsx')\n",
    "\n",
    "# 读取SQL数据库\n",
    "import sqlite3\n",
    "conn = sqlite3.connect('database.db')\n",
    "df = pd.read_sql_query(\"SELECT * FROM table_name\", conn)"
   ]
  },
  {
   "cell_type": "markdown",
   "id": "71cb068f",
   "metadata": {
    "id": "71cb068f"
   },
   "source": [
    "## 数据查看与选择\n",
    "\n",
    "### 查看数据"
   ]
  },
  {
   "cell_type": "code",
   "execution_count": 47,
   "id": "879dceb5",
   "metadata": {
    "colab": {
     "base_uri": "https://localhost:8080/"
    },
    "id": "879dceb5",
    "outputId": "e386ec75-323a-4f36-bf23-af34783621b7"
   },
   "outputs": [
    {
     "name": "stdout",
     "output_type": "stream",
     "text": [
      "  Name  Age City  Salary\n",
      "0   张三   23   北京    7000\n",
      "1   李四   30   上海    8000\n",
      "2   王五   45   广州   12000\n",
      "3   赵六   22   深圳    6000\n",
      "4   孙七   35   杭州    8500\n",
      "  Name  Age City  Salary\n",
      "0   张三   23   北京    7000\n",
      "1   李四   30   上海    8000\n",
      "2   王五   45   广州   12000\n",
      "3   赵六   22   深圳    6000\n",
      "4   孙七   35   杭州    8500\n",
      "RangeIndex(start=0, stop=5, step=1)\n",
      "Index(['Name', 'Age', 'City', 'Salary'], dtype='object')\n",
      "Name      object\n",
      "Age        int64\n",
      "City      object\n",
      "Salary     int64\n",
      "dtype: object\n",
      "             Age       Salary\n",
      "count   5.000000      5.00000\n",
      "mean   31.000000   8300.00000\n",
      "std     9.460444   2280.35085\n",
      "min    22.000000   6000.00000\n",
      "25%    23.000000   7000.00000\n",
      "50%    30.000000   8000.00000\n",
      "75%    35.000000   8500.00000\n",
      "max    45.000000  12000.00000\n"
     ]
    }
   ],
   "source": [
    "# 查看前五行\n",
    "print(df.head())\n",
    "\n",
    "# 查看后五行\n",
    "print(df.tail())\n",
    "\n",
    "# 查看索引、列和数据类型\n",
    "print(df.index)\n",
    "print(df.columns)\n",
    "print(df.dtypes)\n",
    "\n",
    "# 描述统计\n",
    "print(df.describe())"
   ]
  },
  {
   "cell_type": "markdown",
   "id": "1048b546",
   "metadata": {
    "id": "1048b546"
   },
   "source": [
    "### 选择数据\n",
    "\n",
    "#### 按标签（列名）选择"
   ]
  },
  {
   "cell_type": "code",
   "execution_count": 48,
   "id": "e00f1f82",
   "metadata": {
    "colab": {
     "base_uri": "https://localhost:8080/",
     "height": 240
    },
    "id": "e00f1f82",
    "outputId": "57a78931-d22b-459c-dff0-47ecaff6cb66"
   },
   "outputs": [
    {
     "data": {
      "text/plain": [
       "0    张三\n",
       "1    李四\n",
       "2    王五\n",
       "3    赵六\n",
       "4    孙七\n",
       "Name: Name, dtype: object"
      ]
     },
     "execution_count": 48,
     "metadata": {},
     "output_type": "execute_result"
    }
   ],
   "source": [
    "# 选择单列\n",
    "df['Name']\n"
   ]
  },
  {
   "cell_type": "code",
   "execution_count": 49,
   "id": "i0ajHEgj8Vqq",
   "metadata": {
    "colab": {
     "base_uri": "https://localhost:8080/",
     "height": 206
    },
    "id": "i0ajHEgj8Vqq",
    "outputId": "6e673b2c-3db1-4b33-fac6-699a874deb08"
   },
   "outputs": [
    {
     "data": {
      "text/html": [
       "<div>\n",
       "<style scoped>\n",
       "    .dataframe tbody tr th:only-of-type {\n",
       "        vertical-align: middle;\n",
       "    }\n",
       "\n",
       "    .dataframe tbody tr th {\n",
       "        vertical-align: top;\n",
       "    }\n",
       "\n",
       "    .dataframe thead th {\n",
       "        text-align: right;\n",
       "    }\n",
       "</style>\n",
       "<table border=\"1\" class=\"dataframe\">\n",
       "  <thead>\n",
       "    <tr style=\"text-align: right;\">\n",
       "      <th></th>\n",
       "      <th>Name</th>\n",
       "      <th>City</th>\n",
       "    </tr>\n",
       "  </thead>\n",
       "  <tbody>\n",
       "    <tr>\n",
       "      <th>0</th>\n",
       "      <td>张三</td>\n",
       "      <td>北京</td>\n",
       "    </tr>\n",
       "    <tr>\n",
       "      <th>1</th>\n",
       "      <td>李四</td>\n",
       "      <td>上海</td>\n",
       "    </tr>\n",
       "    <tr>\n",
       "      <th>2</th>\n",
       "      <td>王五</td>\n",
       "      <td>广州</td>\n",
       "    </tr>\n",
       "    <tr>\n",
       "      <th>3</th>\n",
       "      <td>赵六</td>\n",
       "      <td>深圳</td>\n",
       "    </tr>\n",
       "    <tr>\n",
       "      <th>4</th>\n",
       "      <td>孙七</td>\n",
       "      <td>杭州</td>\n",
       "    </tr>\n",
       "  </tbody>\n",
       "</table>\n",
       "</div>"
      ],
      "text/plain": [
       "  Name City\n",
       "0   张三   北京\n",
       "1   李四   上海\n",
       "2   王五   广州\n",
       "3   赵六   深圳\n",
       "4   孙七   杭州"
      ]
     },
     "execution_count": 49,
     "metadata": {},
     "output_type": "execute_result"
    }
   ],
   "source": [
    "\n",
    "# 选择多列\n",
    "df[['Name', 'City']]\n"
   ]
  },
  {
   "cell_type": "code",
   "execution_count": 50,
   "id": "IUCi9SIm8Wui",
   "metadata": {
    "colab": {
     "base_uri": "https://localhost:8080/",
     "height": 206
    },
    "id": "IUCi9SIm8Wui",
    "outputId": "c8ce4ea3-97df-4625-8986-17790cc47de2"
   },
   "outputs": [
    {
     "data": {
      "text/html": [
       "<div>\n",
       "<style scoped>\n",
       "    .dataframe tbody tr th:only-of-type {\n",
       "        vertical-align: middle;\n",
       "    }\n",
       "\n",
       "    .dataframe tbody tr th {\n",
       "        vertical-align: top;\n",
       "    }\n",
       "\n",
       "    .dataframe thead th {\n",
       "        text-align: right;\n",
       "    }\n",
       "</style>\n",
       "<table border=\"1\" class=\"dataframe\">\n",
       "  <thead>\n",
       "    <tr style=\"text-align: right;\">\n",
       "      <th></th>\n",
       "      <th>Name</th>\n",
       "      <th>Age</th>\n",
       "      <th>City</th>\n",
       "    </tr>\n",
       "  </thead>\n",
       "  <tbody>\n",
       "    <tr>\n",
       "      <th>0</th>\n",
       "      <td>张三</td>\n",
       "      <td>23</td>\n",
       "      <td>北京</td>\n",
       "    </tr>\n",
       "    <tr>\n",
       "      <th>1</th>\n",
       "      <td>李四</td>\n",
       "      <td>30</td>\n",
       "      <td>上海</td>\n",
       "    </tr>\n",
       "    <tr>\n",
       "      <th>2</th>\n",
       "      <td>王五</td>\n",
       "      <td>45</td>\n",
       "      <td>广州</td>\n",
       "    </tr>\n",
       "    <tr>\n",
       "      <th>3</th>\n",
       "      <td>赵六</td>\n",
       "      <td>22</td>\n",
       "      <td>深圳</td>\n",
       "    </tr>\n",
       "    <tr>\n",
       "      <th>4</th>\n",
       "      <td>孙七</td>\n",
       "      <td>35</td>\n",
       "      <td>杭州</td>\n",
       "    </tr>\n",
       "  </tbody>\n",
       "</table>\n",
       "</div>"
      ],
      "text/plain": [
       "  Name  Age City\n",
       "0   张三   23   北京\n",
       "1   李四   30   上海\n",
       "2   王五   45   广州\n",
       "3   赵六   22   深圳\n",
       "4   孙七   35   杭州"
      ]
     },
     "execution_count": 50,
     "metadata": {},
     "output_type": "execute_result"
    }
   ],
   "source": [
    "\n",
    "# 按列标签进行切片选择，从 'Name' 到 'City'（包含 'Name' 和 'City' 列）\n",
    "df.loc[:, 'Name':'City']\n"
   ]
  },
  {
   "cell_type": "code",
   "execution_count": 51,
   "id": "ZaLFIQA38Xcy",
   "metadata": {
    "colab": {
     "base_uri": "https://localhost:8080/",
     "height": 206
    },
    "id": "ZaLFIQA38Xcy",
    "outputId": "5d191931-5aac-4649-e78c-123380b458b4"
   },
   "outputs": [
    {
     "data": {
      "text/html": [
       "<div>\n",
       "<style scoped>\n",
       "    .dataframe tbody tr th:only-of-type {\n",
       "        vertical-align: middle;\n",
       "    }\n",
       "\n",
       "    .dataframe tbody tr th {\n",
       "        vertical-align: top;\n",
       "    }\n",
       "\n",
       "    .dataframe thead th {\n",
       "        text-align: right;\n",
       "    }\n",
       "</style>\n",
       "<table border=\"1\" class=\"dataframe\">\n",
       "  <thead>\n",
       "    <tr style=\"text-align: right;\">\n",
       "      <th></th>\n",
       "      <th>Name</th>\n",
       "      <th>Age</th>\n",
       "      <th>City</th>\n",
       "    </tr>\n",
       "  </thead>\n",
       "  <tbody>\n",
       "    <tr>\n",
       "      <th>0</th>\n",
       "      <td>张三</td>\n",
       "      <td>23</td>\n",
       "      <td>北京</td>\n",
       "    </tr>\n",
       "    <tr>\n",
       "      <th>1</th>\n",
       "      <td>李四</td>\n",
       "      <td>30</td>\n",
       "      <td>上海</td>\n",
       "    </tr>\n",
       "    <tr>\n",
       "      <th>2</th>\n",
       "      <td>王五</td>\n",
       "      <td>45</td>\n",
       "      <td>广州</td>\n",
       "    </tr>\n",
       "    <tr>\n",
       "      <th>3</th>\n",
       "      <td>赵六</td>\n",
       "      <td>22</td>\n",
       "      <td>深圳</td>\n",
       "    </tr>\n",
       "    <tr>\n",
       "      <th>4</th>\n",
       "      <td>孙七</td>\n",
       "      <td>35</td>\n",
       "      <td>杭州</td>\n",
       "    </tr>\n",
       "  </tbody>\n",
       "</table>\n",
       "</div>"
      ],
      "text/plain": [
       "  Name  Age City\n",
       "0   张三   23   北京\n",
       "1   李四   30   上海\n",
       "2   王五   45   广州\n",
       "3   赵六   22   深圳\n",
       "4   孙七   35   杭州"
      ]
     },
     "execution_count": 51,
     "metadata": {},
     "output_type": "execute_result"
    }
   ],
   "source": [
    "\n",
    "# 按列位置进行切片选择，例如选择第1列到第3列（不包含第4列）\n",
    "df.iloc[:, 0:3]\n"
   ]
  },
  {
   "cell_type": "code",
   "execution_count": 52,
   "id": "8SFBco1B8YJC",
   "metadata": {
    "colab": {
     "base_uri": "https://localhost:8080/",
     "height": 143
    },
    "id": "8SFBco1B8YJC",
    "outputId": "cf7ffa93-2ee7-4fca-adc8-2c5be0545577"
   },
   "outputs": [
    {
     "data": {
      "text/html": [
       "<div>\n",
       "<style scoped>\n",
       "    .dataframe tbody tr th:only-of-type {\n",
       "        vertical-align: middle;\n",
       "    }\n",
       "\n",
       "    .dataframe tbody tr th {\n",
       "        vertical-align: top;\n",
       "    }\n",
       "\n",
       "    .dataframe thead th {\n",
       "        text-align: right;\n",
       "    }\n",
       "</style>\n",
       "<table border=\"1\" class=\"dataframe\">\n",
       "  <thead>\n",
       "    <tr style=\"text-align: right;\">\n",
       "      <th></th>\n",
       "      <th>Name</th>\n",
       "      <th>Age</th>\n",
       "      <th>City</th>\n",
       "      <th>Salary</th>\n",
       "    </tr>\n",
       "  </thead>\n",
       "  <tbody>\n",
       "    <tr>\n",
       "      <th>0</th>\n",
       "      <td>张三</td>\n",
       "      <td>23</td>\n",
       "      <td>北京</td>\n",
       "      <td>7000</td>\n",
       "    </tr>\n",
       "    <tr>\n",
       "      <th>1</th>\n",
       "      <td>李四</td>\n",
       "      <td>30</td>\n",
       "      <td>上海</td>\n",
       "      <td>8000</td>\n",
       "    </tr>\n",
       "    <tr>\n",
       "      <th>2</th>\n",
       "      <td>王五</td>\n",
       "      <td>45</td>\n",
       "      <td>广州</td>\n",
       "      <td>12000</td>\n",
       "    </tr>\n",
       "  </tbody>\n",
       "</table>\n",
       "</div>"
      ],
      "text/plain": [
       "  Name  Age City  Salary\n",
       "0   张三   23   北京    7000\n",
       "1   李四   30   上海    8000\n",
       "2   王五   45   广州   12000"
      ]
     },
     "execution_count": 52,
     "metadata": {},
     "output_type": "execute_result"
    }
   ],
   "source": [
    "\n",
    "# 按行位置进行切片选择，选择第1行到第3行（不包含第4行）\n",
    "df.iloc[0:3]\n"
   ]
  },
  {
   "cell_type": "markdown",
   "id": "bd89a285",
   "metadata": {
    "id": "bd89a285"
   },
   "source": [
    "#### 按位置选择"
   ]
  },
  {
   "cell_type": "markdown",
   "id": "a60addb7",
   "metadata": {
    "id": "a60addb7"
   },
   "source": [
    "#### 布尔索引"
   ]
  },
  {
   "cell_type": "code",
   "execution_count": 53,
   "id": "69861f59",
   "metadata": {
    "colab": {
     "base_uri": "https://localhost:8080/",
     "height": 143
    },
    "id": "69861f59",
    "outputId": "8313977d-9dba-4821-de91-74210dfeb048"
   },
   "outputs": [
    {
     "data": {
      "text/html": [
       "<div>\n",
       "<style scoped>\n",
       "    .dataframe tbody tr th:only-of-type {\n",
       "        vertical-align: middle;\n",
       "    }\n",
       "\n",
       "    .dataframe tbody tr th {\n",
       "        vertical-align: top;\n",
       "    }\n",
       "\n",
       "    .dataframe thead th {\n",
       "        text-align: right;\n",
       "    }\n",
       "</style>\n",
       "<table border=\"1\" class=\"dataframe\">\n",
       "  <thead>\n",
       "    <tr style=\"text-align: right;\">\n",
       "      <th></th>\n",
       "      <th>Name</th>\n",
       "      <th>Age</th>\n",
       "      <th>City</th>\n",
       "      <th>Salary</th>\n",
       "    </tr>\n",
       "  </thead>\n",
       "  <tbody>\n",
       "    <tr>\n",
       "      <th>1</th>\n",
       "      <td>李四</td>\n",
       "      <td>30</td>\n",
       "      <td>上海</td>\n",
       "      <td>8000</td>\n",
       "    </tr>\n",
       "    <tr>\n",
       "      <th>2</th>\n",
       "      <td>王五</td>\n",
       "      <td>45</td>\n",
       "      <td>广州</td>\n",
       "      <td>12000</td>\n",
       "    </tr>\n",
       "    <tr>\n",
       "      <th>4</th>\n",
       "      <td>孙七</td>\n",
       "      <td>35</td>\n",
       "      <td>杭州</td>\n",
       "      <td>8500</td>\n",
       "    </tr>\n",
       "  </tbody>\n",
       "</table>\n",
       "</div>"
      ],
      "text/plain": [
       "  Name  Age City  Salary\n",
       "1   李四   30   上海    8000\n",
       "2   王五   45   广州   12000\n",
       "4   孙七   35   杭州    8500"
      ]
     },
     "execution_count": 53,
     "metadata": {},
     "output_type": "execute_result"
    }
   ],
   "source": [
    "# 根据条件选择\n",
    "df[df['Age'] > 25]\n"
   ]
  },
  {
   "cell_type": "code",
   "execution_count": 54,
   "id": "lq9AJxJ48nCD",
   "metadata": {
    "colab": {
     "base_uri": "https://localhost:8080/",
     "height": 112
    },
    "id": "lq9AJxJ48nCD",
    "outputId": "b50fab4c-8960-4d36-beb5-43a59577a97b"
   },
   "outputs": [
    {
     "data": {
      "text/html": [
       "<div>\n",
       "<style scoped>\n",
       "    .dataframe tbody tr th:only-of-type {\n",
       "        vertical-align: middle;\n",
       "    }\n",
       "\n",
       "    .dataframe tbody tr th {\n",
       "        vertical-align: top;\n",
       "    }\n",
       "\n",
       "    .dataframe thead th {\n",
       "        text-align: right;\n",
       "    }\n",
       "</style>\n",
       "<table border=\"1\" class=\"dataframe\">\n",
       "  <thead>\n",
       "    <tr style=\"text-align: right;\">\n",
       "      <th></th>\n",
       "      <th>Name</th>\n",
       "      <th>Age</th>\n",
       "      <th>City</th>\n",
       "      <th>Salary</th>\n",
       "    </tr>\n",
       "  </thead>\n",
       "  <tbody>\n",
       "    <tr>\n",
       "      <th>1</th>\n",
       "      <td>李四</td>\n",
       "      <td>30</td>\n",
       "      <td>上海</td>\n",
       "      <td>8000</td>\n",
       "    </tr>\n",
       "    <tr>\n",
       "      <th>4</th>\n",
       "      <td>孙七</td>\n",
       "      <td>35</td>\n",
       "      <td>杭州</td>\n",
       "      <td>8500</td>\n",
       "    </tr>\n",
       "  </tbody>\n",
       "</table>\n",
       "</div>"
      ],
      "text/plain": [
       "  Name  Age City  Salary\n",
       "1   李四   30   上海    8000\n",
       "4   孙七   35   杭州    8500"
      ]
     },
     "execution_count": 54,
     "metadata": {},
     "output_type": "execute_result"
    }
   ],
   "source": [
    "\n",
    "# 多条件选择\n",
    "df[(df['Age'] > 25) & (df['Salary'] < 10000)]"
   ]
  },
  {
   "cell_type": "markdown",
   "id": "0544ba8b-bdbd-46e2-846f-cf8b3f113fc9",
   "metadata": {},
   "source": [
    "<div class=\"alert alert-warning\">\n",
    "\n",
    "<b>练习1：</b>\n",
    "\n",
    "<b>🔖接下来，我们创建一个DataFrame，包含以下数据，并计算每个人的平均成绩：\n",
    "\n",
    "姓名:张三、李四、王五；\t\n",
    "数学：85、90、70；\t\n",
    "英语：92、88、75；\t\n",
    "科学：78、95、80\n",
    "\n",
    "\n",
    "**请在下方单元格中填写，确认后请点击单元格左上角的➡️运行单元格。**\n",
    "\n",
    "</div>"
   ]
  },
  {
   "cell_type": "code",
   "execution_count": 55,
   "id": "129136af-ffa4-4dc0-b31d-c2b647ed25d5",
   "metadata": {},
   "outputs": [
    {
     "name": "stdout",
     "output_type": "stream",
     "text": [
      "   姓名  数学  英语  科学  平均成绩\n",
      "0  张三  85  92  78  85.0\n",
      "1  李四  90  88  95  91.0\n",
      "2  王五  70  75  80  75.0\n"
     ]
    }
   ],
   "source": [
    "import pandas as pd\n",
    "\n",
    "# 创建数据字典\n",
    "data_1 = {\n",
    "    '姓名': ['张三', '李四', '王五'],\n",
    "    '数学': [85, 90, 70],\n",
    "    '英语': [92, 88, 75],\n",
    "    '科学': [78, 95, 80]\n",
    "}\n",
    "\n",
    "# 创建DataFrame\n",
    "#————————————————————↓↓↓↓↓↓—————————————————————#\n",
    "df = pd.DataFrame(data_1)\n",
    "#————————————————————↑↑↑↑↑↑—————————————————————#\n",
    "# 计算平均成绩\n",
    "#————————————————————↓↓↓↓↓↓—————————————————————#\n",
    "df['平均成绩'] = df[['数学', '英语', '科学']].mean(axis=1)\n",
    "#————————————————————↑↑↑↑↑↑—————————————————————#\n",
    "# 打印DataFrame\n",
    "print(df)\n",
    "df_sample = pd.DataFrame(data_1)\n",
    "\n",
    "# 保存为CSV文件\n",
    "df_sample.to_csv('data_1.csv', index=False)"
   ]
  },
  {
   "cell_type": "markdown",
   "id": "cba42d50-7300-441a-91c9-5e8254f277b2",
   "metadata": {},
   "source": [
    "<div class=\"alert alert-warning\">\n",
    "\n",
    "<b>下面是答案：</b>\n",
    "\n",
    "<details>\n",
    "    <summary><font color=\"blue\">答案在此，点击展开</font></summary>\n",
    "    \n",
    "    \n",
    "    df = pd.DataFrame(data_1)# 创建DataFrame\n",
    "    \n",
    "    df['平均成绩'] = df[['数学', '英语', '科学']].mean(axis=1)# 计算平均成绩\n",
    "   \n",
    "</div>"
   ]
  },
  {
   "cell_type": "markdown",
   "id": "e7a07064",
   "metadata": {
    "id": "e7a07064"
   },
   "source": [
    "## 数据清洗与预处理\n",
    "\n",
    "### 处理缺失值"
   ]
  },
  {
   "cell_type": "code",
   "execution_count": 56,
   "id": "bfbc84c2",
   "metadata": {
    "id": "bfbc84c2"
   },
   "outputs": [
    {
     "name": "stdout",
     "output_type": "stream",
     "text": [
      "                   A         B         C         D\n",
      "2023-01-01  0.889953  0.064897  0.706577 -1.578350\n",
      "2023-01-02 -1.116403  0.427027  0.514765 -2.347544\n",
      "2023-01-03 -0.422588 -0.725403 -0.739292 -0.306990\n",
      "2023-01-04  0.543130 -0.901465 -1.552583  0.046657\n",
      "2023-01-05  0.500154 -1.283134  1.425069 -0.826616\n",
      "2023-01-06  0.724412  0.400035 -0.260237  1.016878\n"
     ]
    },
    {
     "data": {
      "text/html": [
       "<div>\n",
       "<style scoped>\n",
       "    .dataframe tbody tr th:only-of-type {\n",
       "        vertical-align: middle;\n",
       "    }\n",
       "\n",
       "    .dataframe tbody tr th {\n",
       "        vertical-align: top;\n",
       "    }\n",
       "\n",
       "    .dataframe thead th {\n",
       "        text-align: right;\n",
       "    }\n",
       "</style>\n",
       "<table border=\"1\" class=\"dataframe\">\n",
       "  <thead>\n",
       "    <tr style=\"text-align: right;\">\n",
       "      <th></th>\n",
       "      <th>A</th>\n",
       "      <th>B</th>\n",
       "      <th>C</th>\n",
       "      <th>D</th>\n",
       "      <th>E</th>\n",
       "    </tr>\n",
       "  </thead>\n",
       "  <tbody>\n",
       "    <tr>\n",
       "      <th>2023-01-01</th>\n",
       "      <td>False</td>\n",
       "      <td>False</td>\n",
       "      <td>False</td>\n",
       "      <td>False</td>\n",
       "      <td>False</td>\n",
       "    </tr>\n",
       "    <tr>\n",
       "      <th>2023-01-02</th>\n",
       "      <td>False</td>\n",
       "      <td>False</td>\n",
       "      <td>False</td>\n",
       "      <td>False</td>\n",
       "      <td>False</td>\n",
       "    </tr>\n",
       "    <tr>\n",
       "      <th>2023-01-03</th>\n",
       "      <td>False</td>\n",
       "      <td>False</td>\n",
       "      <td>False</td>\n",
       "      <td>False</td>\n",
       "      <td>True</td>\n",
       "    </tr>\n",
       "    <tr>\n",
       "      <th>2023-01-04</th>\n",
       "      <td>False</td>\n",
       "      <td>False</td>\n",
       "      <td>False</td>\n",
       "      <td>False</td>\n",
       "      <td>True</td>\n",
       "    </tr>\n",
       "  </tbody>\n",
       "</table>\n",
       "</div>"
      ],
      "text/plain": [
       "                A      B      C      D      E\n",
       "2023-01-01  False  False  False  False  False\n",
       "2023-01-02  False  False  False  False  False\n",
       "2023-01-03  False  False  False  False   True\n",
       "2023-01-04  False  False  False  False   True"
      ]
     },
     "execution_count": 56,
     "metadata": {},
     "output_type": "execute_result"
    }
   ],
   "source": [
    "# 创建一个简单的DataFrame\n",
    "dates = pd.date_range('20230101', periods=6)\n",
    "df = pd.DataFrame(np.random.randn(6,4), index=dates, columns=list('ABCD'))\n",
    "print(df)\n",
    "# 生成含有缺失值的数据\n",
    "df1 = df.reindex(index=dates[0:4], columns=list(df.columns) + ['E'])\n",
    "df1.loc[dates[0]:dates[1], 'E'] = 1\n",
    "\n",
    "# 丢弃含有缺失值的行\n",
    "df1.dropna(how='any')\n",
    "\n",
    "# 填充缺失值\n",
    "df1.fillna(value=5)\n",
    "\n",
    "# 检测缺失值\n",
    "pd.isna(df1)"
   ]
  },
  {
   "cell_type": "markdown",
   "id": "252ee42b",
   "metadata": {
    "id": "252ee42b"
   },
   "source": [
    "### 数据转换"
   ]
  },
  {
   "cell_type": "code",
   "execution_count": 57,
   "id": "ebeefec7",
   "metadata": {
    "id": "ebeefec7"
   },
   "outputs": [],
   "source": [
    "# 数据类型转换\n",
    "df['A'] = df['A'].astype('int')\n",
    "\n",
    "# 替换值\n",
    "df.replace(-999, np.nan)\n",
    "\n",
    "# 重命名列\n",
    "df.rename(columns={'A': 'Alpha', 'B': 'Beta'}, inplace=True)"
   ]
  },
  {
   "cell_type": "markdown",
   "id": "42f780af-7ca3-44ad-8a87-538736c07731",
   "metadata": {},
   "source": [
    "<div class=\"alert alert-warning\">\n",
    "\n",
    "<b>练习2：</b>\n",
    "\n",
    "<b>🔖接下来，从data.csv文件读取数据，删除含有缺失值的行，并将数据按照某一列进行排序。\n",
    "\n",
    "**请在下方单元格中填写，确认后请点击单元格左上角的➡️运行单元格。**\n",
    "\n",
    "</div>"
   ]
  },
  {
   "cell_type": "code",
   "execution_count": 58,
   "id": "ebcbe49f-eb36-43b1-b4bc-ac54031899e7",
   "metadata": {},
   "outputs": [
    {
     "name": "stdout",
     "output_type": "stream",
     "text": [
      "   姓名  数学  英语  科学\n",
      "1  李四  90  88  95\n",
      "0  张三  85  92  78\n",
      "2  王五  70  75  80\n"
     ]
    }
   ],
   "source": [
    "# 使用练习题1中的数据,从CSV文件读取数据\n",
    "df = pd.read_csv('data_1.csv')\n",
    "\n",
    "# 删除含有缺失值的行\n",
    "\n",
    "#————————————————————↓↓↓↓↓↓—————————————————————#\n",
    "cleaned = df.dropna()\n",
    "#————————————————————↑↑↑↑↑↑—————————————————————#\n",
    "\n",
    "# 按照某一列进行排序，例如按照'数学'成绩排序\n",
    "#————————————————————↓↓↓↓↓↓—————————————————————#\n",
    "df_sorted = df.sort_values(by='数学', ascending=False)\n",
    "#————————————————————↑↑↑↑↑↑—————————————————————#\n",
    "\n",
    "# 打印结果\n",
    "print(df_sorted)"
   ]
  },
  {
   "cell_type": "markdown",
   "id": "a190788f-f637-49d6-b572-8622ac1d1922",
   "metadata": {},
   "source": [
    "<div class=\"alert alert-warning\">\n",
    "\n",
    "<b>下面是答案：</b>\n",
    "\n",
    "<details>\n",
    "    <summary><font color=\"blue\">答案在此，点击展开</font></summary>\n",
    "\n",
    "    df_cleaned = df.dropna()\n",
    "    \n",
    "    df_sorted = df_cleaned.sort_values(by='数学', ascending=False)\n",
    "    \n",
    "</div>"
   ]
  },
  {
   "cell_type": "markdown",
   "id": "db6a704f",
   "metadata": {
    "id": "db6a704f"
   },
   "source": [
    "## 数据分析与操作\n",
    "\n",
    "### 描述性统计"
   ]
  },
  {
   "cell_type": "code",
   "execution_count": 59,
   "id": "e106386c",
   "metadata": {
    "id": "e106386c"
   },
   "outputs": [
    {
     "name": "stdout",
     "output_type": "stream",
     "text": [
      "                   A         B         C         D\n",
      "2023-01-01  0.649453  0.312906 -0.818164 -1.631699\n",
      "2023-01-02  0.350890  0.459072 -0.118953 -1.314122\n",
      "2023-01-03 -0.759112  0.418882  0.029343 -1.257626\n",
      "2023-01-04  0.709793 -0.417336 -0.889700  0.967073\n",
      "2023-01-05  1.139340 -1.089191  1.261592 -0.803064\n",
      "2023-01-06  0.263860 -0.446333  0.235249 -0.036018\n"
     ]
    },
    {
     "data": {
      "text/html": [
       "<div>\n",
       "<style scoped>\n",
       "    .dataframe tbody tr th:only-of-type {\n",
       "        vertical-align: middle;\n",
       "    }\n",
       "\n",
       "    .dataframe tbody tr th {\n",
       "        vertical-align: top;\n",
       "    }\n",
       "\n",
       "    .dataframe thead th {\n",
       "        text-align: right;\n",
       "    }\n",
       "</style>\n",
       "<table border=\"1\" class=\"dataframe\">\n",
       "  <thead>\n",
       "    <tr style=\"text-align: right;\">\n",
       "      <th></th>\n",
       "      <th>A</th>\n",
       "      <th>B</th>\n",
       "      <th>C</th>\n",
       "      <th>D</th>\n",
       "    </tr>\n",
       "  </thead>\n",
       "  <tbody>\n",
       "    <tr>\n",
       "      <th>A</th>\n",
       "      <td>1.000000</td>\n",
       "      <td>-0.652509</td>\n",
       "      <td>0.154013</td>\n",
       "      <td>0.252657</td>\n",
       "    </tr>\n",
       "    <tr>\n",
       "      <th>B</th>\n",
       "      <td>-0.652509</td>\n",
       "      <td>1.000000</td>\n",
       "      <td>-0.587139</td>\n",
       "      <td>-0.547514</td>\n",
       "    </tr>\n",
       "    <tr>\n",
       "      <th>C</th>\n",
       "      <td>0.154013</td>\n",
       "      <td>-0.587139</td>\n",
       "      <td>1.000000</td>\n",
       "      <td>-0.163851</td>\n",
       "    </tr>\n",
       "    <tr>\n",
       "      <th>D</th>\n",
       "      <td>0.252657</td>\n",
       "      <td>-0.547514</td>\n",
       "      <td>-0.163851</td>\n",
       "      <td>1.000000</td>\n",
       "    </tr>\n",
       "  </tbody>\n",
       "</table>\n",
       "</div>"
      ],
      "text/plain": [
       "          A         B         C         D\n",
       "A  1.000000 -0.652509  0.154013  0.252657\n",
       "B -0.652509  1.000000 -0.587139 -0.547514\n",
       "C  0.154013 -0.587139  1.000000 -0.163851\n",
       "D  0.252657 -0.547514 -0.163851  1.000000"
      ]
     },
     "execution_count": 59,
     "metadata": {},
     "output_type": "execute_result"
    }
   ],
   "source": [
    "# 创建一个简单的DataFrame\n",
    "dates = pd.date_range('20230101', periods=6)\n",
    "df = pd.DataFrame(np.random.randn(6,4), index=dates, columns=list('ABCD'))\n",
    "print(df)\n",
    "# 基本统计\n",
    "df.mean()\n",
    "# 指定轴向\n",
    "df.mean(axis=1)\n",
    "\n",
    "# 统计不同值的数量\n",
    "df['C'].value_counts()\n",
    "\n",
    "# 计算相关系数\n",
    "df.corr()"
   ]
  },
  {
   "cell_type": "markdown",
   "id": "bae448e9",
   "metadata": {
    "id": "bae448e9"
   },
   "source": [
    "### 分组与聚合"
   ]
  },
  {
   "cell_type": "code",
   "execution_count": 60,
   "id": "46b57fec",
   "metadata": {
    "id": "46b57fec"
   },
   "outputs": [
    {
     "data": {
      "text/plain": [
       "Category   SubCategory \n",
       "Category1  SubCategory1     432\n",
       "           SubCategory2    1145\n",
       "Category2  SubCategory1     657\n",
       "Name: Sales, dtype: int32"
      ]
     },
     "execution_count": 60,
     "metadata": {},
     "output_type": "execute_result"
    }
   ],
   "source": [
    "# 分组计算\n",
    "# 首先添加一个 'Category' 列\n",
    "df['Category'] = np.random.choice(['Category1', 'Category2'], size=len(df))\n",
    "grouped = df.groupby('Category')\n",
    "grouped = df.groupby('Category')\n",
    "grouped.mean()\n",
    "\n",
    "# 多级分组\n",
    "# 首先添加 'SubCategory' 列和 'Sales' 列\n",
    "df['SubCategory'] = np.random.choice(['SubCategory1', 'SubCategory2'], size=len(df))\n",
    "df['Sales'] = np.random.randint(100, 500, size=len(df))\n",
    "grouped = df.groupby(['Category', 'SubCategory'])\n",
    "grouped['Sales'].sum()"
   ]
  },
  {
   "cell_type": "markdown",
   "id": "aed77c63-15d5-495d-9fa7-70ee39b875ae",
   "metadata": {},
   "source": [
    "<div class=\"alert alert-warning\">\n",
    "\n",
    "<b>练习3：</b>\n",
    "\n",
    "<b>🔖接下来，使用groupby和agg函数，计算某数据集按类别分组后的总和、平均值和最大值。\n",
    "\n",
    "**请在下方单元格中填写，确认后请点击单元格左上角的➡️运行单元格。**\n",
    "\n",
    "</div>"
   ]
  },
  {
   "cell_type": "code",
   "execution_count": 61,
   "id": "86a2090a-ddb9-4c03-a3b5-1d98baf1fc46",
   "metadata": {},
   "outputs": [
    {
     "name": "stdout",
     "output_type": "stream",
     "text": [
      "         Value1           Value2                 \n",
      "            sum  mean max    sum        mean  max\n",
      "Category                                         \n",
      "A            39  13.0  22    370  123.333333  150\n",
      "B            58  29.0  35    450  225.000000  250\n",
      "C            36  12.0  17    700  233.333333  350\n"
     ]
    }
   ],
   "source": [
    "import pandas as pd\n",
    "\n",
    "# 以下是创建示例DataFrame的代码\n",
    "data = {\n",
    "    'Category': ['A', 'B', 'A', 'C', 'B', 'A', 'C', 'C'],\n",
    "    'Value1': [10, 23, 7, 14, 35, 22, 5, 17],\n",
    "    'Value2': [100, 200, 150, 300, 250, 120, 50, 350]\n",
    "}\n",
    "df = pd.DataFrame(data)\n",
    "\n",
    "# 使用groupby按类别分组，并使用agg函数计算总和、平均值和最大值\n",
    "#————————————————————↓↓↓↓↓↓—————————————————————#\n",
    "grouped_df = df.groupby('Category').agg({\n",
    "#————————————————————↑↑↑↑↑↑—————————————————————#\n",
    "    'Value1': ['sum', 'mean', 'max'],\n",
    "    'Value2': ['sum', 'mean', 'max']\n",
    "})\n",
    "\n",
    "# 打印结果\n",
    "print(grouped_df)"
   ]
  },
  {
   "cell_type": "markdown",
   "id": "d189b13f-9ae1-46ed-a44a-6b8092fa8f24",
   "metadata": {},
   "source": [
    "<div class=\"alert alert-warning\">\n",
    "\n",
    "<b>下面是答案：</b>\n",
    "\n",
    "<details>\n",
    "    <summary><font color=\"blue\">答案在此，点击展开</font></summary>\n",
    "     \n",
    "    grouped_df = df.groupby('Category').agg({\n",
    "\n",
    "</div>"
   ]
  },
  {
   "cell_type": "markdown",
   "id": "c94cd614",
   "metadata": {
    "id": "c94cd614"
   },
   "source": [
    "### 合并与连接\n",
    "\n",
    "#### 合并"
   ]
  },
  {
   "cell_type": "code",
   "execution_count": 62,
   "id": "526d8f56",
   "metadata": {
    "id": "526d8f56"
   },
   "outputs": [],
   "source": [
    "# 按列合并\n",
    "df1 = pd.DataFrame({'key': ['A', 'B', 'C'], 'value': [1, 2, 3]})\n",
    "df2 = pd.DataFrame({'key': ['B', 'C', 'D'], 'value': [4, 5, 6]})\n",
    "merged = pd.merge(df1, df2, on='key')"
   ]
  },
  {
   "cell_type": "markdown",
   "id": "72315862",
   "metadata": {
    "id": "72315862"
   },
   "source": [
    "#### 连接"
   ]
  },
  {
   "cell_type": "code",
   "execution_count": 63,
   "id": "7467e960",
   "metadata": {
    "id": "7467e960"
   },
   "outputs": [],
   "source": [
    "# 按索引连接\n",
    "df1 = pd.DataFrame({'A': [1, 2, 3]}, index=[0, 1, 2])\n",
    "df2 = pd.DataFrame({'B': [4, 5, 6]}, index=[1, 2, 3])\n",
    "joined = df1.join(df2, how='outer')"
   ]
  },
  {
   "cell_type": "markdown",
   "id": "3d46dcf9",
   "metadata": {
    "id": "3d46dcf9"
   },
   "source": [
    "#### 拼接"
   ]
  },
  {
   "cell_type": "code",
   "execution_count": 64,
   "id": "dde1f136",
   "metadata": {
    "id": "dde1f136"
   },
   "outputs": [],
   "source": [
    "# 纵向拼接\n",
    "df_concat = pd.concat([df1, df2], axis=0)"
   ]
  },
  {
   "cell_type": "markdown",
   "id": "7e913213-183f-4438-90a0-f423c455a4f9",
   "metadata": {},
   "source": [
    "<div class=\"alert alert-warning\">\n",
    "\n",
    "<b>练习4：</b>\n",
    "\n",
    "<b>🔖接下来，将两个DataFrame按照指定键进行合并，尝试使用不同的how参数（如inner、outer等），观察结果的差异。\n",
    "\n",
    "**请在下方单元格中填写，确认后请点击单元格左上角的➡️运行单元格。**\n",
    "\n",
    "</div>"
   ]
  },
  {
   "cell_type": "code",
   "execution_count": 65,
   "id": "d29b1b66-c349-44ad-8d50-448d25cff1b3",
   "metadata": {},
   "outputs": [
    {
     "name": "stdout",
     "output_type": "stream",
     "text": [
      "Inner Join:\n",
      "  Key  Value1  Value2\n",
      "0   B       2       5\n",
      "1   D       4       6\n",
      "2   D       4       7\n",
      "Outer Join:\n",
      "  Key  Value1  Value2\n",
      "0   A     1.0     NaN\n",
      "1   B     2.0     5.0\n",
      "2   C     3.0     NaN\n",
      "3   D     4.0     6.0\n",
      "4   D     4.0     7.0\n",
      "5   E     NaN     8.0\n"
     ]
    }
   ],
   "source": [
    "import pandas as pd\n",
    "\n",
    "# 创建第一个DataFrame\n",
    "df1 = pd.DataFrame({\n",
    "    'Key': ['A', 'B', 'C', 'D'],\n",
    "    'Value1': [1, 2, 3, 4]\n",
    "})\n",
    "\n",
    "# 创建第二个DataFrame\n",
    "df2 = pd.DataFrame({\n",
    "    'Key': ['B', 'D', 'D', 'E'],\n",
    "    'Value2': [5, 6, 7, 8]\n",
    "})\n",
    "\n",
    "# 按照'Key'列进行不同的合并操作\n",
    "\n",
    "# Inner join: 只包含两个DataFrame中都有的键\n",
    "#————————————————————↓↓↓↓↓↓—————————————————————#\n",
    "inner_joined = pd.merge(df1, df2, on='Key', how='inner')\n",
    "#————————————————————↑↑↑↑↑↑—————————————————————#\n",
    "print(\"Inner Join:\")\n",
    "print(inner_joined)\n",
    "\n",
    "# Outer join: 包含两个DataFrame中所有的键，缺失的数据将被填充为NaN\n",
    "#————————————————————↓↓↓↓↓↓—————————————————————#\n",
    "outer_joined = pd.merge(df1, df2, on='Key', how='outer')\n",
    "#————————————————————↑↑↑↑↑↑—————————————————————#\n",
    "print(\"Outer Join:\")\n",
    "print(outer_joined)"
   ]
  },
  {
   "cell_type": "markdown",
   "id": "d613c6f8-ef71-41b8-a6f4-43337b220ab6",
   "metadata": {},
   "source": [
    "<div class=\"alert alert-warning\">\n",
    "\n",
    "<b>下面是答案：</b>\n",
    "\n",
    "<details>\n",
    "    <summary><font color=\"blue\">答案在此，点击展开</font></summary>\n",
    "    \n",
    "    inner_joined = pd.merge(df1, df2, on='Key', how='inner')\n",
    "\n",
    "    outer_joined = pd.merge(df1, df2, on='Key', how='outer')\n",
    "</div>"
   ]
  },
  {
   "cell_type": "markdown",
   "id": "0e98482d",
   "metadata": {
    "id": "0e98482d"
   },
   "source": [
    "## 数据可视化\n",
    "\n",
    "Pandas集成了Matplotlib，可直接进行简单的绘图。"
   ]
  },
  {
   "cell_type": "code",
   "execution_count": 66,
   "id": "8dc2b519",
   "metadata": {
    "colab": {
     "base_uri": "https://localhost:8080/",
     "height": 447
    },
    "id": "8dc2b519",
    "outputId": "c8cf2311-6095-47aa-adea-745feed4ff47"
   },
   "outputs": [
    {
     "data": {
      "text/plain": [
       "<Axes: >"
      ]
     },
     "execution_count": 66,
     "metadata": {},
     "output_type": "execute_result"
    },
    {
     "data": {
      "image/png": "[encoded data removed]",
      "text/plain": [
       "<Figure size 640x480 with 1 Axes>"
      ]
     },
     "metadata": {},
     "output_type": "display_data"
    }
   ],
   "source": [
    "import matplotlib.pyplot as plt\n",
    "# 读取CSV文件\n",
    "df = pd.read_csv('data.csv')\n",
    "# 折线图\n",
    "df['Age'].plot()\n"
   ]
  },
  {
   "cell_type": "code",
   "execution_count": 67,
   "id": "Dja-Xgob9DTy",
   "metadata": {
    "colab": {
     "base_uri": "https://localhost:8080/",
     "height": 442
    },
    "id": "Dja-Xgob9DTy",
    "outputId": "04ad35dd-1818-49a8-acd1-889b829215e6"
   },
   "outputs": [
    {
     "data": {
      "text/plain": [
       "<Axes: >"
      ]
     },
     "execution_count": 67,
     "metadata": {},
     "output_type": "execute_result"
    },
    {
     "data": {
      "image/png": "[encoded data removed]",
      "text/plain": [
       "<Figure size 640x480 with 1 Axes>"
      ]
     },
     "metadata": {},
     "output_type": "display_data"
    }
   ],
   "source": [
    "\n",
    "# 柱状图\n",
    "df.plot(kind='bar')\n"
   ]
  },
  {
   "cell_type": "code",
   "execution_count": 68,
   "id": "4pQnOYIP9FHT",
   "metadata": {
    "colab": {
     "base_uri": "https://localhost:8080/",
     "height": 447
    },
    "id": "4pQnOYIP9FHT",
    "outputId": "0447a96a-484e-4eca-db44-ad6eaaa2305f"
   },
   "outputs": [
    {
     "data": {
      "text/plain": [
       "<Axes: >"
      ]
     },
     "execution_count": 68,
     "metadata": {},
     "output_type": "execute_result"
    },
    {
     "data": {
      "image/png": "[encoded data removed]",
      "text/plain": [
       "<Figure size 640x480 with 1 Axes>"
      ]
     },
     "metadata": {},
     "output_type": "display_data"
    }
   ],
   "source": [
    "\n",
    "# 直方图\n",
    "df['Age'].hist()\n"
   ]
  },
  {
   "cell_type": "code",
   "execution_count": 69,
   "id": "HsP6chD89KQS",
   "metadata": {
    "colab": {
     "base_uri": "https://localhost:8080/",
     "height": 449
    },
    "id": "HsP6chD89KQS",
    "outputId": "6b9ed205-0ba4-47dc-91b3-f2e5e263b6ff"
   },
   "outputs": [
    {
     "data": {
      "image/png": "[encoded data removed]",
      "text/plain": [
       "<Figure size 640x480 with 1 Axes>"
      ]
     },
     "metadata": {},
     "output_type": "display_data"
    }
   ],
   "source": [
    "\n",
    "# 散点图\n",
    "df.plot.scatter(x='Age', y='Salary')\n",
    "\n",
    "plt.show()"
   ]
  },
  {
   "cell_type": "markdown",
   "id": "d870db03",
   "metadata": {
    "id": "d870db03"
   },
   "source": [
    "## 实战案例\n",
    "\n",
    "### 案例一：股票数据分析\n",
    "\n",
    "#### 获取数据"
   ]
  },
  {
   "cell_type": "code",
   "execution_count": 70,
   "id": "9115a88a",
   "metadata": {
    "colab": {
     "base_uri": "https://localhost:8080/"
    },
    "id": "9115a88a",
    "outputId": "de84b31f-fd54-4cc8-f597-2f2c3b0efb7e"
   },
   "outputs": [
    {
     "name": "stdout",
     "output_type": "stream",
     "text": [
      "已成功创建示例的 'AAPL.csv' 文件，内容如下：\n",
      "                  Open        High         Low       Close   Adj Close  \\\n",
      "2022-01-03  153.253408  150.575193  151.986658  153.433303  154.967636   \n",
      "2022-01-04  152.685513  151.657393  153.077289  152.466199  153.990861   \n",
      "2022-01-05  153.754875  152.546633  154.824166  153.751104  155.288615   \n",
      "2022-01-06  154.042344  155.331273  156.272812  156.498803  158.063791   \n",
      "2022-01-07  157.728297  155.315119  157.009281  158.684751  160.271599   \n",
      "\n",
      "             Volume  \n",
      "2022-01-03  4926683  \n",
      "2022-01-04  4885796  \n",
      "2022-01-05  4376713  \n",
      "2022-01-06  4124552  \n",
      "2022-01-07  2103412  \n"
     ]
    }
   ],
   "source": [
    "import pandas as pd\n",
    "import numpy as np\n",
    "\n",
    "# 创建日期范围（工作日）\n",
    "dates = pd.date_range(start='2022-01-01', end='2022-12-31', freq='B')  # 'B'表示工作日\n",
    "\n",
    "# 生成随机股票数据\n",
    "np.random.seed(0)  # 设置随机种子以确保结果可重复\n",
    "price = 150 + np.random.normal(0, 1, len(dates)).cumsum()  # 累积求和生成趋势\n",
    "high = price + np.random.normal(0, 1, len(dates))\n",
    "low = price - np.random.normal(0, 1, len(dates))\n",
    "open_price = price + np.random.normal(0, 1, len(dates))\n",
    "close = price + np.random.normal(0, 1, len(dates))\n",
    "volume = np.random.randint(1000000, 5000000, len(dates))\n",
    "adj_close = close * 1.01  # 假设调整收盘价\n",
    "\n",
    "# 创建DataFrame\n",
    "df_aapl = pd.DataFrame({\n",
    "    'Open': open_price,\n",
    "    'High': high,\n",
    "    'Low': low,\n",
    "    'Close': close,\n",
    "    'Adj Close': adj_close,\n",
    "    'Volume': volume\n",
    "}, index=dates)\n",
    "\n",
    "# 保存为CSV文件\n",
    "df_aapl.to_csv('AAPL.csv')\n",
    "\n",
    "print(\"已成功创建示例的 'AAPL.csv' 文件，内容如下：\")\n",
    "print(df_aapl.head())\n"
   ]
  },
  {
   "cell_type": "markdown",
   "id": "cd086a38",
   "metadata": {
    "id": "cd086a38"
   },
   "source": [
    "#### 数据分析"
   ]
  },
  {
   "cell_type": "code",
   "execution_count": 71,
   "id": "9db335b3",
   "metadata": {
    "colab": {
     "base_uri": "https://localhost:8080/",
     "height": 564
    },
    "id": "9db335b3",
    "outputId": "42132181-a7c5-4469-9107-6ef060328c4d"
   },
   "outputs": [
    {
     "data": {
      "image/png": "[encoded data removed]",
      "text/plain": [
       "<Figure size 1200x600 with 1 Axes>"
      ]
     },
     "metadata": {},
     "output_type": "display_data"
    }
   ],
   "source": [
    "import matplotlib.pyplot as plt\n",
    "\n",
    "# 计算收盘价的移动平均线\n",
    "df_aapl['MA20'] = df_aapl['Close'].rolling(window=20).mean()\n",
    "df_aapl['MA50'] = df_aapl['Close'].rolling(window=50).mean()\n",
    "\n",
    "# 绘制收盘价和移动平均线\n",
    "plt.figure(figsize=(12,6))\n",
    "plt.plot(df_aapl['Close'], label='Close Price')\n",
    "plt.plot(df_aapl['MA20'], label='20-Day MA')\n",
    "plt.plot(df_aapl['MA50'], label='50-Day MA')\n",
    "plt.title('Apple Stock Price and Moving Averages')\n",
    "plt.xlabel('Date')\n",
    "plt.ylabel('Price (USD)')\n",
    "plt.legend()\n",
    "plt.grid(True)\n",
    "plt.show()\n"
   ]
  },
  {
   "cell_type": "markdown",
   "id": "14d1a389",
   "metadata": {
    "id": "14d1a389"
   },
   "source": [
    "#### 计算每日收益率"
   ]
  },
  {
   "cell_type": "code",
   "execution_count": 72,
   "id": "08b1c1a8",
   "metadata": {
    "colab": {
     "base_uri": "https://localhost:8080/",
     "height": 564
    },
    "id": "08b1c1a8",
    "outputId": "70ec17c6-fdc5-4f51-a763-405c056347b2"
   },
   "outputs": [
    {
     "data": {
      "image/png": "[encoded data removed]",
      "text/plain": [
       "<Figure size 1000x600 with 1 Axes>"
      ]
     },
     "metadata": {},
     "output_type": "display_data"
    }
   ],
   "source": [
    "import matplotlib.pyplot as plt\n",
    "\n",
    "# 计算每日收益率\n",
    "df_aapl['Daily Return'] = df_aapl['Close'].pct_change()\n",
    "\n",
    "# 绘制每日收益率的直方图\n",
    "plt.figure(figsize=(10,6))\n",
    "df_aapl['Daily Return'].hist(bins=50)\n",
    "plt.title('Apple Stock Daily Returns')\n",
    "plt.xlabel('Daily Return')\n",
    "plt.ylabel('Frequency')\n",
    "plt.grid(True)\n",
    "plt.show()\n"
   ]
  },
  {
   "cell_type": "markdown",
   "id": "pUJJYJPDAKBe",
   "metadata": {
    "id": "pUJJYJPDAKBe"
   },
   "source": [
    "### 附加题：让我们用真实的APPL数据"
   ]
  },
  {
   "cell_type": "code",
   "execution_count": 73,
   "id": "boHO_T99AVk_",
   "metadata": {
    "colab": {
     "base_uri": "https://localhost:8080/",
     "height": 1000
    },
    "id": "boHO_T99AVk_",
    "outputId": "fa405ba2-b749-4a26-b80e-4c5175e56730"
   },
   "outputs": [
    {
     "ename": "FileNotFoundError",
     "evalue": "[Errno 2] No such file or directory: '/bohr/appl-1z56/v1/apple_data.csv'",
     "output_type": "error",
     "traceback": [
      "\u001b[1;31m---------------------------------------------------------------------------\u001b[0m",
      "\u001b[1;31mFileNotFoundError\u001b[0m                         Traceback (most recent call last)",
      "Cell \u001b[1;32mIn[73], line 5\u001b[0m\n\u001b[0;32m      2\u001b[0m \u001b[38;5;28;01mimport\u001b[39;00m \u001b[38;5;21;01mmatplotlib\u001b[39;00m\u001b[38;5;21;01m.\u001b[39;00m\u001b[38;5;21;01mpyplot\u001b[39;00m \u001b[38;5;28;01mas\u001b[39;00m \u001b[38;5;21;01mplt\u001b[39;00m\n\u001b[0;32m      4\u001b[0m \u001b[38;5;66;03m# 读取CSV文件\u001b[39;00m\n\u001b[1;32m----> 5\u001b[0m df \u001b[38;5;241m=\u001b[39m pd\u001b[38;5;241m.\u001b[39mread_csv(\u001b[38;5;124m'\u001b[39m\u001b[38;5;124m/bohr/appl-1z56/v1/apple_data.csv\u001b[39m\u001b[38;5;124m'\u001b[39m)\n\u001b[0;32m      7\u001b[0m \u001b[38;5;66;03m# 确保日期列是日期类型，这里假设CSV文件中日期列名为'Date'\u001b[39;00m\n\u001b[0;32m      8\u001b[0m df[\u001b[38;5;124m'\u001b[39m\u001b[38;5;124mDate\u001b[39m\u001b[38;5;124m'\u001b[39m] \u001b[38;5;241m=\u001b[39m pd\u001b[38;5;241m.\u001b[39mto_datetime(df[\u001b[38;5;124m'\u001b[39m\u001b[38;5;124mDate\u001b[39m\u001b[38;5;124m'\u001b[39m])\n",
      "File \u001b[1;32md:\\anaconda\\Lib\\site-packages\\pandas\\io\\parsers\\readers.py:1026\u001b[0m, in \u001b[0;36mread_csv\u001b[1;34m(filepath_or_buffer, sep, delimiter, header, names, index_col, usecols, dtype, engine, converters, true_values, false_values, skipinitialspace, skiprows, skipfooter, nrows, na_values, keep_default_na, na_filter, verbose, skip_blank_lines, parse_dates, infer_datetime_format, keep_date_col, date_parser, date_format, dayfirst, cache_dates, iterator, chunksize, compression, thousands, decimal, lineterminator, quotechar, quoting, doublequote, escapechar, comment, encoding, encoding_errors, dialect, on_bad_lines, delim_whitespace, low_memory, memory_map, float_precision, storage_options, dtype_backend)\u001b[0m\n\u001b[0;32m   1013\u001b[0m kwds_defaults \u001b[38;5;241m=\u001b[39m _refine_defaults_read(\n\u001b[0;32m   1014\u001b[0m     dialect,\n\u001b[0;32m   1015\u001b[0m     delimiter,\n\u001b[1;32m   (...)\u001b[0m\n\u001b[0;32m   1022\u001b[0m     dtype_backend\u001b[38;5;241m=\u001b[39mdtype_backend,\n\u001b[0;32m   1023\u001b[0m )\n\u001b[0;32m   1024\u001b[0m kwds\u001b[38;5;241m.\u001b[39mupdate(kwds_defaults)\n\u001b[1;32m-> 1026\u001b[0m \u001b[38;5;28;01mreturn\u001b[39;00m _read(filepath_or_buffer, kwds)\n",
      "File \u001b[1;32md:\\anaconda\\Lib\\site-packages\\pandas\\io\\parsers\\readers.py:620\u001b[0m, in \u001b[0;36m_read\u001b[1;34m(filepath_or_buffer, kwds)\u001b[0m\n\u001b[0;32m    617\u001b[0m _validate_names(kwds\u001b[38;5;241m.\u001b[39mget(\u001b[38;5;124m\"\u001b[39m\u001b[38;5;124mnames\u001b[39m\u001b[38;5;124m\"\u001b[39m, \u001b[38;5;28;01mNone\u001b[39;00m))\n\u001b[0;32m    619\u001b[0m \u001b[38;5;66;03m# Create the parser.\u001b[39;00m\n\u001b[1;32m--> 620\u001b[0m parser \u001b[38;5;241m=\u001b[39m TextFileReader(filepath_or_buffer, \u001b[38;5;241m*\u001b[39m\u001b[38;5;241m*\u001b[39mkwds)\n\u001b[0;32m    622\u001b[0m \u001b[38;5;28;01mif\u001b[39;00m chunksize \u001b[38;5;129;01mor\u001b[39;00m iterator:\n\u001b[0;32m    623\u001b[0m     \u001b[38;5;28;01mreturn\u001b[39;00m parser\n",
      "File \u001b[1;32md:\\anaconda\\Lib\\site-packages\\pandas\\io\\parsers\\readers.py:1620\u001b[0m, in \u001b[0;36mTextFileReader.__init__\u001b[1;34m(self, f, engine, **kwds)\u001b[0m\n\u001b[0;32m   1617\u001b[0m     \u001b[38;5;28mself\u001b[39m\u001b[38;5;241m.\u001b[39moptions[\u001b[38;5;124m\"\u001b[39m\u001b[38;5;124mhas_index_names\u001b[39m\u001b[38;5;124m\"\u001b[39m] \u001b[38;5;241m=\u001b[39m kwds[\u001b[38;5;124m\"\u001b[39m\u001b[38;5;124mhas_index_names\u001b[39m\u001b[38;5;124m\"\u001b[39m]\n\u001b[0;32m   1619\u001b[0m \u001b[38;5;28mself\u001b[39m\u001b[38;5;241m.\u001b[39mhandles: IOHandles \u001b[38;5;241m|\u001b[39m \u001b[38;5;28;01mNone\u001b[39;00m \u001b[38;5;241m=\u001b[39m \u001b[38;5;28;01mNone\u001b[39;00m\n\u001b[1;32m-> 1620\u001b[0m \u001b[38;5;28mself\u001b[39m\u001b[38;5;241m.\u001b[39m_engine \u001b[38;5;241m=\u001b[39m \u001b[38;5;28mself\u001b[39m\u001b[38;5;241m.\u001b[39m_make_engine(f, \u001b[38;5;28mself\u001b[39m\u001b[38;5;241m.\u001b[39mengine)\n",
      "File \u001b[1;32md:\\anaconda\\Lib\\site-packages\\pandas\\io\\parsers\\readers.py:1880\u001b[0m, in \u001b[0;36mTextFileReader._make_engine\u001b[1;34m(self, f, engine)\u001b[0m\n\u001b[0;32m   1878\u001b[0m     \u001b[38;5;28;01mif\u001b[39;00m \u001b[38;5;124m\"\u001b[39m\u001b[38;5;124mb\u001b[39m\u001b[38;5;124m\"\u001b[39m \u001b[38;5;129;01mnot\u001b[39;00m \u001b[38;5;129;01min\u001b[39;00m mode:\n\u001b[0;32m   1879\u001b[0m         mode \u001b[38;5;241m+\u001b[39m\u001b[38;5;241m=\u001b[39m \u001b[38;5;124m\"\u001b[39m\u001b[38;5;124mb\u001b[39m\u001b[38;5;124m\"\u001b[39m\n\u001b[1;32m-> 1880\u001b[0m \u001b[38;5;28mself\u001b[39m\u001b[38;5;241m.\u001b[39mhandles \u001b[38;5;241m=\u001b[39m get_handle(\n\u001b[0;32m   1881\u001b[0m     f,\n\u001b[0;32m   1882\u001b[0m     mode,\n\u001b[0;32m   1883\u001b[0m     encoding\u001b[38;5;241m=\u001b[39m\u001b[38;5;28mself\u001b[39m\u001b[38;5;241m.\u001b[39moptions\u001b[38;5;241m.\u001b[39mget(\u001b[38;5;124m\"\u001b[39m\u001b[38;5;124mencoding\u001b[39m\u001b[38;5;124m\"\u001b[39m, \u001b[38;5;28;01mNone\u001b[39;00m),\n\u001b[0;32m   1884\u001b[0m     compression\u001b[38;5;241m=\u001b[39m\u001b[38;5;28mself\u001b[39m\u001b[38;5;241m.\u001b[39moptions\u001b[38;5;241m.\u001b[39mget(\u001b[38;5;124m\"\u001b[39m\u001b[38;5;124mcompression\u001b[39m\u001b[38;5;124m\"\u001b[39m, \u001b[38;5;28;01mNone\u001b[39;00m),\n\u001b[0;32m   1885\u001b[0m     memory_map\u001b[38;5;241m=\u001b[39m\u001b[38;5;28mself\u001b[39m\u001b[38;5;241m.\u001b[39moptions\u001b[38;5;241m.\u001b[39mget(\u001b[38;5;124m\"\u001b[39m\u001b[38;5;124mmemory_map\u001b[39m\u001b[38;5;124m\"\u001b[39m, \u001b[38;5;28;01mFalse\u001b[39;00m),\n\u001b[0;32m   1886\u001b[0m     is_text\u001b[38;5;241m=\u001b[39mis_text,\n\u001b[0;32m   1887\u001b[0m     errors\u001b[38;5;241m=\u001b[39m\u001b[38;5;28mself\u001b[39m\u001b[38;5;241m.\u001b[39moptions\u001b[38;5;241m.\u001b[39mget(\u001b[38;5;124m\"\u001b[39m\u001b[38;5;124mencoding_errors\u001b[39m\u001b[38;5;124m\"\u001b[39m, \u001b[38;5;124m\"\u001b[39m\u001b[38;5;124mstrict\u001b[39m\u001b[38;5;124m\"\u001b[39m),\n\u001b[0;32m   1888\u001b[0m     storage_options\u001b[38;5;241m=\u001b[39m\u001b[38;5;28mself\u001b[39m\u001b[38;5;241m.\u001b[39moptions\u001b[38;5;241m.\u001b[39mget(\u001b[38;5;124m\"\u001b[39m\u001b[38;5;124mstorage_options\u001b[39m\u001b[38;5;124m\"\u001b[39m, \u001b[38;5;28;01mNone\u001b[39;00m),\n\u001b[0;32m   1889\u001b[0m )\n\u001b[0;32m   1890\u001b[0m \u001b[38;5;28;01massert\u001b[39;00m \u001b[38;5;28mself\u001b[39m\u001b[38;5;241m.\u001b[39mhandles \u001b[38;5;129;01mis\u001b[39;00m \u001b[38;5;129;01mnot\u001b[39;00m \u001b[38;5;28;01mNone\u001b[39;00m\n\u001b[0;32m   1891\u001b[0m f \u001b[38;5;241m=\u001b[39m \u001b[38;5;28mself\u001b[39m\u001b[38;5;241m.\u001b[39mhandles\u001b[38;5;241m.\u001b[39mhandle\n",
      "File \u001b[1;32md:\\anaconda\\Lib\\site-packages\\pandas\\io\\common.py:873\u001b[0m, in \u001b[0;36mget_handle\u001b[1;34m(path_or_buf, mode, encoding, compression, memory_map, is_text, errors, storage_options)\u001b[0m\n\u001b[0;32m    868\u001b[0m \u001b[38;5;28;01melif\u001b[39;00m \u001b[38;5;28misinstance\u001b[39m(handle, \u001b[38;5;28mstr\u001b[39m):\n\u001b[0;32m    869\u001b[0m     \u001b[38;5;66;03m# Check whether the filename is to be opened in binary mode.\u001b[39;00m\n\u001b[0;32m    870\u001b[0m     \u001b[38;5;66;03m# Binary mode does not support 'encoding' and 'newline'.\u001b[39;00m\n\u001b[0;32m    871\u001b[0m     \u001b[38;5;28;01mif\u001b[39;00m ioargs\u001b[38;5;241m.\u001b[39mencoding \u001b[38;5;129;01mand\u001b[39;00m \u001b[38;5;124m\"\u001b[39m\u001b[38;5;124mb\u001b[39m\u001b[38;5;124m\"\u001b[39m \u001b[38;5;129;01mnot\u001b[39;00m \u001b[38;5;129;01min\u001b[39;00m ioargs\u001b[38;5;241m.\u001b[39mmode:\n\u001b[0;32m    872\u001b[0m         \u001b[38;5;66;03m# Encoding\u001b[39;00m\n\u001b[1;32m--> 873\u001b[0m         handle \u001b[38;5;241m=\u001b[39m \u001b[38;5;28mopen\u001b[39m(\n\u001b[0;32m    874\u001b[0m             handle,\n\u001b[0;32m    875\u001b[0m             ioargs\u001b[38;5;241m.\u001b[39mmode,\n\u001b[0;32m    876\u001b[0m             encoding\u001b[38;5;241m=\u001b[39mioargs\u001b[38;5;241m.\u001b[39mencoding,\n\u001b[0;32m    877\u001b[0m             errors\u001b[38;5;241m=\u001b[39merrors,\n\u001b[0;32m    878\u001b[0m             newline\u001b[38;5;241m=\u001b[39m\u001b[38;5;124m\"\u001b[39m\u001b[38;5;124m\"\u001b[39m,\n\u001b[0;32m    879\u001b[0m         )\n\u001b[0;32m    880\u001b[0m     \u001b[38;5;28;01melse\u001b[39;00m:\n\u001b[0;32m    881\u001b[0m         \u001b[38;5;66;03m# Binary mode\u001b[39;00m\n\u001b[0;32m    882\u001b[0m         handle \u001b[38;5;241m=\u001b[39m \u001b[38;5;28mopen\u001b[39m(handle, ioargs\u001b[38;5;241m.\u001b[39mmode)\n",
      "\u001b[1;31mFileNotFoundError\u001b[0m: [Errno 2] No such file or directory: '/bohr/appl-1z56/v1/apple_data.csv'"
     ]
    }
   ],
   "source": [
    "import pandas as pd\n",
    "import matplotlib.pyplot as plt\n",
    "\n",
    "# 读取CSV文件\n",
    "df = pd.read_csv('/bohr/appl-1z56/v1/apple_data.csv')\n",
    "\n",
    "# 确保日期列是日期类型，这里假设CSV文件中日期列名为'Date'\n",
    "df['Date'] = pd.to_datetime(df['Date'])\n",
    "\n",
    "# 筛选2022年的数据\n",
    "df_2022 = df[df['Date'].dt.year == 2022]\n",
    "\n",
    "# 确保数据按日期排序\n",
    "df_2022.sort_values('Date', inplace=True)\n",
    "\n",
    "# 设置索引为日期\n",
    "df_2022.set_index('Date', inplace=True)\n",
    "\n",
    "# 计算收盘价的移动平均线\n",
    "df_2022['MA20'] = df_2022['Close'].rolling(window=20).mean()\n",
    "df_2022['MA50'] = df_2022['Close'].rolling(window=50).mean()\n",
    "\n",
    "# 绘制收盘价和移动平均线\n",
    "plt.figure(figsize=(12,6))\n",
    "plt.plot(df_2022.index, df_2022['Close'], label='Close Price')\n",
    "plt.plot(df_2022.index, df_2022['MA20'], label='20-Day MA')\n",
    "plt.plot(df_2022.index, df_2022['MA50'], label='50-Day MA')\n",
    "plt.title('Apple Stock Price and Moving Averages in 2022')\n",
    "plt.xlabel('Date')\n",
    "plt.ylabel('Price (USD)')\n",
    "plt.legend()\n",
    "plt.grid(True)\n",
    "plt.show()\n",
    "\n",
    "# 计算每日收益率\n",
    "df_2022['Daily Return'] = df_2022['Close'].pct_change()\n",
    "\n",
    "# 绘制每日收益率的直方图\n",
    "plt.figure(figsize=(10,6))\n",
    "df_2022['Daily Return'].dropna().hist(bins=50)  # 删除NaN值\n",
    "plt.title('Apple Stock Daily Returns in 2022')\n",
    "plt.xlabel('Daily Return')\n",
    "plt.ylabel('Frequency')\n",
    "plt.grid(True)\n",
    "plt.show()"
   ]
  },
  {
   "cell_type": "markdown",
   "id": "b751ecbe-b868-427a-bdca-f0ba355b0640",
   "metadata": {},
   "source": [
    "<div class=\"alert alert-warning\">\n",
    "\n",
    "<b>练习5：</b>\n",
    "\n",
    "<b>🔖接下来，使用Pandas和Matplotlib绘制股票的收盘价折线图和交易量柱状图。\n",
    "\n",
    "**请在下方单元格中填写，确认后请点击单元格左上角的➡️运行单元格。**\n",
    "\n",
    "</div>"
   ]
  },
  {
   "cell_type": "code",
   "execution_count": null,
   "id": "9f873bd2-382a-4e0e-9570-a4b785d042fa",
   "metadata": {},
   "outputs": [
    {
     "name": "stdout",
     "output_type": "stream",
     "text": [
      "已成功创建示例的 'AAPL.csv' 文件，内容如下：\n",
      "                  Open        High         Low       Close   Adj Close  \\\n",
      "2023-01-02  152.302153  151.730568  150.181468  149.443317  150.937751   \n",
      "2023-01-03  149.906016  149.486909  151.552271  151.614854  153.131003   \n",
      "2023-01-04  150.125193  151.279443  150.356040  150.965263  152.474916   \n",
      "2023-01-05  149.916830  149.037010  147.651033  149.520767  151.015975   \n",
      "2023-01-06  151.494797  150.410904  149.310317  148.732460  150.219785   \n",
      "\n",
      "             Volume  \n",
      "2023-01-02  1032236  \n",
      "2023-01-03  4190352  \n",
      "2023-01-04  3322958  \n",
      "2023-01-05  4912194  \n",
      "2023-01-06  1075700  \n"
     ]
    },
    {
     "ename": "Error",
     "evalue": "INVALID mime type: status. Must be in the format \"type/subtype[;optionalparameter]\"",
     "output_type": "error",
     "traceback": [
      "Error: INVALID mime type: status. Must be in the format \"type/subtype[;optionalparameter]\"\n",
      "    at new qs (file:///d:/Microsoft%20VS%20Code/resources/app/out/vs/workbench/api/node/extensionHostProcess.js:106:61432)\n",
      "    at Function.text (file:///d:/Microsoft%20VS%20Code/resources/app/out/vs/workbench/api/node/extensionHostProcess.js:106:61262)\n",
      "    at c (d:\\Microsoft VS Code\\resources\\app\\extensions\\ipynb\\dist\\ipynbMain.node.js:1:140468)\n",
      "    at l (d:\\Microsoft VS Code\\resources\\app\\extensions\\ipynb\\dist\\ipynbMain.node.js:1:141345)\n",
      "    at h (d:\\Microsoft VS Code\\resources\\app\\extensions\\ipynb\\dist\\ipynbMain.node.js:1:141855)\n",
      "    at Array.map (<anonymous>)\n",
      "    at d:\\Microsoft VS Code\\resources\\app\\extensions\\ipynb\\dist\\ipynbMain.node.js:1:138791\n",
      "    at d:\\Microsoft VS Code\\resources\\app\\extensions\\ipynb\\dist\\ipynbMain.node.js:1:139108\n",
      "    at d:\\Microsoft VS Code\\resources\\app\\extensions\\ipynb\\dist\\ipynbMain.node.js:1:139115\n",
      "    at Array.map (<anonymous>)\n",
      "    at e.jupyterNotebookModelToNotebookData (d:\\Microsoft VS Code\\resources\\app\\extensions\\ipynb\\dist\\ipynbMain.node.js:1:138367)\n",
      "    at deserializeNotebook (d:\\Microsoft VS Code\\resources\\app\\extensions\\ipynb\\dist\\ipynbMain.node.js:1:168721)\n",
      "    at xh.$dataToNotebook (file:///d:/Microsoft%20VS%20Code/resources/app/out/vs/workbench/api/node/extensionHostProcess.js:171:8560)\n",
      "    at Uy.S (file:///d:/Microsoft%20VS%20Code/resources/app/out/vs/workbench/api/node/extensionHostProcess.js:29:114979)\n",
      "    at Uy.Q (file:///d:/Microsoft%20VS%20Code/resources/app/out/vs/workbench/api/node/extensionHostProcess.js:29:114759)\n",
      "    at Uy.M (file:///d:/Microsoft%20VS%20Code/resources/app/out/vs/workbench/api/node/extensionHostProcess.js:29:113810)\n",
      "    at Uy.L (file:///d:/Microsoft%20VS%20Code/resources/app/out/vs/workbench/api/node/extensionHostProcess.js:29:113086)\n",
      "    at Ah.value (file:///d:/Microsoft%20VS%20Code/resources/app/out/vs/workbench/api/node/extensionHostProcess.js:29:111750)\n",
      "    at D.B (file:///d:/Microsoft%20VS%20Code/resources/app/out/vs/workbench/api/node/extensionHostProcess.js:27:2373)\n",
      "    at D.fire (file:///d:/Microsoft%20VS%20Code/resources/app/out/vs/workbench/api/node/extensionHostProcess.js:27:2591)\n",
      "    at Xn.fire (file:///d:/Microsoft%20VS%20Code/resources/app/out/vs/workbench/api/node/extensionHostProcess.js:29:9458)\n",
      "    at Ah.value (file:///d:/Microsoft%20VS%20Code/resources/app/out/vs/workbench/api/node/extensionHostProcess.js:190:13296)\n",
      "    at D.B (file:///d:/Microsoft%20VS%20Code/resources/app/out/vs/workbench/api/node/extensionHostProcess.js:27:2373)\n",
      "    at D.fire (file:///d:/Microsoft%20VS%20Code/resources/app/out/vs/workbench/api/node/extensionHostProcess.js:27:2591)\n",
      "    at Xn.fire (file:///d:/Microsoft%20VS%20Code/resources/app/out/vs/workbench/api/node/extensionHostProcess.js:29:9458)\n",
      "    at MessagePortMain.<anonymous> (file:///d:/Microsoft%20VS%20Code/resources/app/out/vs/workbench/api/node/extensionHostProcess.js:190:11588)\n",
      "    at MessagePortMain.emit (node:events:518:28)\n",
      "    at Object.MessagePortMain._internalPort.emit (node:electron/js2c/utility_init:2:2949)"
     ]
    }
   ],
   "source": [
    "import pandas as pd\n",
    "import numpy as np\n",
    "\n",
    "# 创建日期范围（工作日）\n",
    "dates = pd.date_range(start='2023-01-01', end='2023-12-31', freq='B')  # 'B'表示工作日\n",
    "\n",
    "# 生成随机股票数据\n",
    "np.random.seed(1)  # 设置随机种子以确保结果可重复\n",
    "price = 150 + np.random.normal(0, 1, len(dates)).cumsum()  # 累积求和生成趋势\n",
    "high = price + np.random.normal(0, 1, len(dates))\n",
    "low = price - np.random.normal(0, 1, len(dates))\n",
    "open_price = price + np.random.normal(0, 1, len(dates))\n",
    "close = price + np.random.normal(0, 1, len(dates))\n",
    "volume = np.random.randint(1000000, 5000000, len(dates))\n",
    "adj_close = close * 1.01  # 假设调整收盘价\n",
    "\n",
    "# 创建DataFrame\n",
    "#————————————————————↓↓↓↓↓↓—————————————————————#\n",
    "\n",
    "#————————————————————↑↑↑↑↑↑—————————————————————#\n",
    "    'Open': open_price,\n",
    "    'High': high,\n",
    "    'Low': low,\n",
    "    'Close': close,\n",
    "    'Adj Close': adj_close,\n",
    "    'Volume': volume\n",
    "}, index=dates)\n",
    "\n",
    "# 保存为CSV文件\n",
    "df_aapl.to_csv('AAPL.csv')\n",
    "\n",
    "print(\"已成功创建示例的 'AAPL.csv' 文件，内容如下：\")\n",
    "print(df_aapl.head())"
   ]
  },
  {
   "cell_type": "code",
   "execution_count": null,
   "id": "fe2c15ac-5ae1-4a07-b2c1-097226ab48e6",
   "metadata": {},
   "outputs": [
    {
     "data": {
      "image/png": "[encoded data removed]",
      "text/plain": [
       "<Figure size 1200x600 with 1 Axes>"
      ]
     },
     "metadata": {},
     "output_type": "display_data"
    },
    {
     "data": {
      "image/png": "[encoded data removed]",
      "text/plain": [
       "<Figure size 1000x600 with 1 Axes>"
      ]
     },
     "metadata": {},
     "output_type": "display_data"
    },
    {
     "ename": "Error",
     "evalue": "INVALID mime type: status. Must be in the format \"type/subtype[;optionalparameter]\"",
     "output_type": "error",
     "traceback": [
      "Error: INVALID mime type: status. Must be in the format \"type/subtype[;optionalparameter]\"\n",
      "    at new qs (file:///d:/Microsoft%20VS%20Code/resources/app/out/vs/workbench/api/node/extensionHostProcess.js:106:61432)\n",
      "    at Function.text (file:///d:/Microsoft%20VS%20Code/resources/app/out/vs/workbench/api/node/extensionHostProcess.js:106:61262)\n",
      "    at c (d:\\Microsoft VS Code\\resources\\app\\extensions\\ipynb\\dist\\ipynbMain.node.js:1:140468)\n",
      "    at l (d:\\Microsoft VS Code\\resources\\app\\extensions\\ipynb\\dist\\ipynbMain.node.js:1:141345)\n",
      "    at h (d:\\Microsoft VS Code\\resources\\app\\extensions\\ipynb\\dist\\ipynbMain.node.js:1:141855)\n",
      "    at Array.map (<anonymous>)\n",
      "    at d:\\Microsoft VS Code\\resources\\app\\extensions\\ipynb\\dist\\ipynbMain.node.js:1:138791\n",
      "    at d:\\Microsoft VS Code\\resources\\app\\extensions\\ipynb\\dist\\ipynbMain.node.js:1:139108\n",
      "    at d:\\Microsoft VS Code\\resources\\app\\extensions\\ipynb\\dist\\ipynbMain.node.js:1:139115\n",
      "    at Array.map (<anonymous>)\n",
      "    at e.jupyterNotebookModelToNotebookData (d:\\Microsoft VS Code\\resources\\app\\extensions\\ipynb\\dist\\ipynbMain.node.js:1:138367)\n",
      "    at deserializeNotebook (d:\\Microsoft VS Code\\resources\\app\\extensions\\ipynb\\dist\\ipynbMain.node.js:1:168721)\n",
      "    at xh.$dataToNotebook (file:///d:/Microsoft%20VS%20Code/resources/app/out/vs/workbench/api/node/extensionHostProcess.js:171:8560)\n",
      "    at Uy.S (file:///d:/Microsoft%20VS%20Code/resources/app/out/vs/workbench/api/node/extensionHostProcess.js:29:114979)\n",
      "    at Uy.Q (file:///d:/Microsoft%20VS%20Code/resources/app/out/vs/workbench/api/node/extensionHostProcess.js:29:114759)\n",
      "    at Uy.M (file:///d:/Microsoft%20VS%20Code/resources/app/out/vs/workbench/api/node/extensionHostProcess.js:29:113810)\n",
      "    at Uy.L (file:///d:/Microsoft%20VS%20Code/resources/app/out/vs/workbench/api/node/extensionHostProcess.js:29:113086)\n",
      "    at Ah.value (file:///d:/Microsoft%20VS%20Code/resources/app/out/vs/workbench/api/node/extensionHostProcess.js:29:111750)\n",
      "    at D.B (file:///d:/Microsoft%20VS%20Code/resources/app/out/vs/workbench/api/node/extensionHostProcess.js:27:2373)\n",
      "    at D.fire (file:///d:/Microsoft%20VS%20Code/resources/app/out/vs/workbench/api/node/extensionHostProcess.js:27:2591)\n",
      "    at Xn.fire (file:///d:/Microsoft%20VS%20Code/resources/app/out/vs/workbench/api/node/extensionHostProcess.js:29:9458)\n",
      "    at Ah.value (file:///d:/Microsoft%20VS%20Code/resources/app/out/vs/workbench/api/node/extensionHostProcess.js:190:13296)\n",
      "    at D.B (file:///d:/Microsoft%20VS%20Code/resources/app/out/vs/workbench/api/node/extensionHostProcess.js:27:2373)\n",
      "    at D.fire (file:///d:/Microsoft%20VS%20Code/resources/app/out/vs/workbench/api/node/extensionHostProcess.js:27:2591)\n",
      "    at Xn.fire (file:///d:/Microsoft%20VS%20Code/resources/app/out/vs/workbench/api/node/extensionHostProcess.js:29:9458)\n",
      "    at MessagePortMain.<anonymous> (file:///d:/Microsoft%20VS%20Code/resources/app/out/vs/workbench/api/node/extensionHostProcess.js:190:11588)\n",
      "    at MessagePortMain.emit (node:events:518:28)\n",
      "    at Object.MessagePortMain._internalPort.emit (node:electron/js2c/utility_init:2:2949)"
     ]
    }
   ],
   "source": [
    "import matplotlib.pyplot as plt\n",
    "\n",
    "# 计算收盘价的移动平均线\n",
    "#————————————————————↓↓↓↓↓↓—————————————————————#\n",
    "\n",
    "\n",
    "#————————————————————↑↑↑↑↑↑—————————————————————#\n",
    "# 绘制收盘价和移动平均线\n",
    "plt.figure(figsize=(12,6))\n",
    "plt.plot(df_aapl['Close'], label='Close Price')\n",
    "plt.plot(df_aapl['MA20'], label='20-Day MA')\n",
    "plt.plot(df_aapl['MA50'], label='50-Day MA')\n",
    "plt.title('Apple Stock Price and Moving Averages')\n",
    "plt.xlabel('Date')\n",
    "plt.ylabel('Price (USD)')\n",
    "plt.legend()\n",
    "plt.grid(True)\n",
    "plt.show()\n",
    "\n",
    "# 计算每日收益率\n",
    "#————————————————————↓↓↓↓↓↓—————————————————————#\n",
    "\n",
    "#————————————————————↑↑↑↑↑↑—————————————————————#\n",
    "\n",
    "# 绘制每日收益率的直方图\n",
    "plt.figure(figsize=(10,6))\n",
    "#————————————————————↓↓↓↓↓↓—————————————————————#\n",
    "\n",
    "#————————————————————↑↑↑↑↑↑—————————————————————#\n",
    "plt.title('Apple Stock Daily Returns')\n",
    "plt.xlabel('Daily Return')\n",
    "plt.ylabel('Frequency')\n",
    "plt.grid(True)\n",
    "plt.show()"
   ]
  },
  {
   "cell_type": "markdown",
   "id": "f73b70cf-5c1b-4a6c-b5c9-275937d4012e",
   "metadata": {},
   "source": [
    "<div class=\"alert alert-warning\">\n",
    "\n",
    "<b>下面是答案：</b>\n",
    "\n",
    "<details>\n",
    "    <summary><font color=\"blue\">答案在此，点击展开</font></summary>\n",
    "\n",
    "    df_aapl = pd.DataFrame({\n",
    "\n",
    "    df_aapl['MA20'] = df_aapl['Close'].rolling(window=20).mean()\n",
    "    df_aapl['MA50'] = df_aapl['Close'].rolling(window=50).mean()\n",
    "\n",
    "    df_aapl['Daily Return'] = df_aapl['Close'].pct_change()\n",
    "\n",
    "    df_aapl['Daily Return'].hist(bins=50)\n",
    "    \n",
    "</div>"
   ]
  },
  {
   "cell_type": "markdown",
   "id": "7f0e2651",
   "metadata": {
    "id": "7f0e2651"
   },
   "source": [
    "### 案例二：电影数据分析\n",
    "\n",
    "#### 导入数据"
   ]
  },
  {
   "cell_type": "code",
   "execution_count": null,
   "id": "2W5tmJYE9qJk",
   "metadata": {
    "colab": {
     "base_uri": "https://localhost:8080/"
    },
    "id": "2W5tmJYE9qJk",
    "outputId": "28b581e9-c6e4-4a89-d29b-ab4611055b55"
   },
   "outputs": [
    {
     "name": "stdout",
     "output_type": "stream",
     "text": [
      "已成功创建示例的 'movies.csv' 文件，内容如下：\n",
      "  title  year genre    budget      gross  rating\n",
      "0   电影A  2020    动作  10000000   50000000     7.5\n",
      "1   电影B  2019    喜剧   5000000   20000000     6.8\n",
      "2   电影C  2021    剧情  15000000   75000000     8.2\n",
      "3   电影D  2018    科幻  20000000  100000000     7.9\n",
      "4   电影E  2022    爱情   8000000   30000000     7.0\n",
      "5   电影F  2020    动作  12000000   60000000     7.8\n",
      "6   电影G  2019    喜剧   6000000   25000000     6.5\n",
      "7   电影H  2021    剧情  18000000   90000000     8.0\n",
      "8   电影I  2018    科幻  22000000  110000000     7.7\n",
      "9   电影J  2022    爱情   9000000   35000000     7.2\n"
     ]
    },
    {
     "ename": "Error",
     "evalue": "INVALID mime type: status. Must be in the format \"type/subtype[;optionalparameter]\"",
     "output_type": "error",
     "traceback": [
      "Error: INVALID mime type: status. Must be in the format \"type/subtype[;optionalparameter]\"\n",
      "    at new qs (file:///d:/Microsoft%20VS%20Code/resources/app/out/vs/workbench/api/node/extensionHostProcess.js:106:61432)\n",
      "    at Function.text (file:///d:/Microsoft%20VS%20Code/resources/app/out/vs/workbench/api/node/extensionHostProcess.js:106:61262)\n",
      "    at c (d:\\Microsoft VS Code\\resources\\app\\extensions\\ipynb\\dist\\ipynbMain.node.js:1:140468)\n",
      "    at l (d:\\Microsoft VS Code\\resources\\app\\extensions\\ipynb\\dist\\ipynbMain.node.js:1:141345)\n",
      "    at h (d:\\Microsoft VS Code\\resources\\app\\extensions\\ipynb\\dist\\ipynbMain.node.js:1:141855)\n",
      "    at Array.map (<anonymous>)\n",
      "    at d:\\Microsoft VS Code\\resources\\app\\extensions\\ipynb\\dist\\ipynbMain.node.js:1:138791\n",
      "    at d:\\Microsoft VS Code\\resources\\app\\extensions\\ipynb\\dist\\ipynbMain.node.js:1:139108\n",
      "    at d:\\Microsoft VS Code\\resources\\app\\extensions\\ipynb\\dist\\ipynbMain.node.js:1:139115\n",
      "    at Array.map (<anonymous>)\n",
      "    at e.jupyterNotebookModelToNotebookData (d:\\Microsoft VS Code\\resources\\app\\extensions\\ipynb\\dist\\ipynbMain.node.js:1:138367)\n",
      "    at deserializeNotebook (d:\\Microsoft VS Code\\resources\\app\\extensions\\ipynb\\dist\\ipynbMain.node.js:1:168721)\n",
      "    at xh.$dataToNotebook (file:///d:/Microsoft%20VS%20Code/resources/app/out/vs/workbench/api/node/extensionHostProcess.js:171:8560)\n",
      "    at Uy.S (file:///d:/Microsoft%20VS%20Code/resources/app/out/vs/workbench/api/node/extensionHostProcess.js:29:114979)\n",
      "    at Uy.Q (file:///d:/Microsoft%20VS%20Code/resources/app/out/vs/workbench/api/node/extensionHostProcess.js:29:114759)\n",
      "    at Uy.M (file:///d:/Microsoft%20VS%20Code/resources/app/out/vs/workbench/api/node/extensionHostProcess.js:29:113810)\n",
      "    at Uy.L (file:///d:/Microsoft%20VS%20Code/resources/app/out/vs/workbench/api/node/extensionHostProcess.js:29:113086)\n",
      "    at Ah.value (file:///d:/Microsoft%20VS%20Code/resources/app/out/vs/workbench/api/node/extensionHostProcess.js:29:111750)\n",
      "    at D.B (file:///d:/Microsoft%20VS%20Code/resources/app/out/vs/workbench/api/node/extensionHostProcess.js:27:2373)\n",
      "    at D.fire (file:///d:/Microsoft%20VS%20Code/resources/app/out/vs/workbench/api/node/extensionHostProcess.js:27:2591)\n",
      "    at Xn.fire (file:///d:/Microsoft%20VS%20Code/resources/app/out/vs/workbench/api/node/extensionHostProcess.js:29:9458)\n",
      "    at Ah.value (file:///d:/Microsoft%20VS%20Code/resources/app/out/vs/workbench/api/node/extensionHostProcess.js:190:13296)\n",
      "    at D.B (file:///d:/Microsoft%20VS%20Code/resources/app/out/vs/workbench/api/node/extensionHostProcess.js:27:2373)\n",
      "    at D.fire (file:///d:/Microsoft%20VS%20Code/resources/app/out/vs/workbench/api/node/extensionHostProcess.js:27:2591)\n",
      "    at Xn.fire (file:///d:/Microsoft%20VS%20Code/resources/app/out/vs/workbench/api/node/extensionHostProcess.js:29:9458)\n",
      "    at MessagePortMain.<anonymous> (file:///d:/Microsoft%20VS%20Code/resources/app/out/vs/workbench/api/node/extensionHostProcess.js:190:11588)\n",
      "    at MessagePortMain.emit (node:events:518:28)\n",
      "    at Object.MessagePortMain._internalPort.emit (node:electron/js2c/utility_init:2:2949)"
     ]
    }
   ],
   "source": [
    "import pandas as pd\n",
    "\n",
    "# 创建示例电影数据\n",
    "data = {\n",
    "    'title': ['电影A', '电影B', '电影C', '电影D', '电影E', '电影F', '电影G', '电影H', '电影I', '电影J'],\n",
    "    'year': [2020, 2019, 2021, 2018, 2022, 2020, 2019, 2021, 2018, 2022],\n",
    "    'genre': ['动作', '喜剧', '剧情', '科幻', '爱情', '动作', '喜剧', '剧情', '科幻', '爱情'],\n",
    "    'budget': [10000000, 5000000, 15000000, 20000000, 8000000, 12000000, 6000000, 18000000, 22000000, 9000000],\n",
    "    'gross': [50000000, 20000000, 75000000, 100000000, 30000000, 60000000, 25000000, 90000000, 110000000, 35000000],\n",
    "    'rating': [7.5, 6.8, 8.2, 7.9, 7.0, 7.8, 6.5, 8.0, 7.7, 7.2]\n",
    "}\n",
    "\n",
    "# 创建DataFrame\n",
    "df_movies = pd.DataFrame(data)\n",
    "\n",
    "# 保存为CSV文件\n",
    "df_movies.to_csv('movies.csv', index=False)\n",
    "\n",
    "print(\"已成功创建示例的 'movies.csv' 文件，内容如下：\")\n",
    "print(df_movies)\n"
   ]
  },
  {
   "cell_type": "code",
   "execution_count": null,
   "id": "01c300c5",
   "metadata": {
    "colab": {
     "base_uri": "https://localhost:8080/"
    },
    "id": "01c300c5",
    "outputId": "d6e669a3-aaf9-4044-c618-d8fa87bdc449"
   },
   "outputs": [
    {
     "name": "stdout",
     "output_type": "stream",
     "text": [
      "  title  year genre    budget      gross  rating\n",
      "0   电影A  2020    动作  10000000   50000000     7.5\n",
      "1   电影B  2019    喜剧   5000000   20000000     6.8\n",
      "2   电影C  2021    剧情  15000000   75000000     8.2\n",
      "3   电影D  2018    科幻  20000000  100000000     7.9\n",
      "4   电影E  2022    爱情   8000000   30000000     7.0\n"
     ]
    },
    {
     "ename": "Error",
     "evalue": "INVALID mime type: status. Must be in the format \"type/subtype[;optionalparameter]\"",
     "output_type": "error",
     "traceback": [
      "Error: INVALID mime type: status. Must be in the format \"type/subtype[;optionalparameter]\"\n",
      "    at new qs (file:///d:/Microsoft%20VS%20Code/resources/app/out/vs/workbench/api/node/extensionHostProcess.js:106:61432)\n",
      "    at Function.text (file:///d:/Microsoft%20VS%20Code/resources/app/out/vs/workbench/api/node/extensionHostProcess.js:106:61262)\n",
      "    at c (d:\\Microsoft VS Code\\resources\\app\\extensions\\ipynb\\dist\\ipynbMain.node.js:1:140468)\n",
      "    at l (d:\\Microsoft VS Code\\resources\\app\\extensions\\ipynb\\dist\\ipynbMain.node.js:1:141345)\n",
      "    at h (d:\\Microsoft VS Code\\resources\\app\\extensions\\ipynb\\dist\\ipynbMain.node.js:1:141855)\n",
      "    at Array.map (<anonymous>)\n",
      "    at d:\\Microsoft VS Code\\resources\\app\\extensions\\ipynb\\dist\\ipynbMain.node.js:1:138791\n",
      "    at d:\\Microsoft VS Code\\resources\\app\\extensions\\ipynb\\dist\\ipynbMain.node.js:1:139108\n",
      "    at d:\\Microsoft VS Code\\resources\\app\\extensions\\ipynb\\dist\\ipynbMain.node.js:1:139115\n",
      "    at Array.map (<anonymous>)\n",
      "    at e.jupyterNotebookModelToNotebookData (d:\\Microsoft VS Code\\resources\\app\\extensions\\ipynb\\dist\\ipynbMain.node.js:1:138367)\n",
      "    at deserializeNotebook (d:\\Microsoft VS Code\\resources\\app\\extensions\\ipynb\\dist\\ipynbMain.node.js:1:168721)\n",
      "    at xh.$dataToNotebook (file:///d:/Microsoft%20VS%20Code/resources/app/out/vs/workbench/api/node/extensionHostProcess.js:171:8560)\n",
      "    at Uy.S (file:///d:/Microsoft%20VS%20Code/resources/app/out/vs/workbench/api/node/extensionHostProcess.js:29:114979)\n",
      "    at Uy.Q (file:///d:/Microsoft%20VS%20Code/resources/app/out/vs/workbench/api/node/extensionHostProcess.js:29:114759)\n",
      "    at Uy.M (file:///d:/Microsoft%20VS%20Code/resources/app/out/vs/workbench/api/node/extensionHostProcess.js:29:113810)\n",
      "    at Uy.L (file:///d:/Microsoft%20VS%20Code/resources/app/out/vs/workbench/api/node/extensionHostProcess.js:29:113086)\n",
      "    at Ah.value (file:///d:/Microsoft%20VS%20Code/resources/app/out/vs/workbench/api/node/extensionHostProcess.js:29:111750)\n",
      "    at D.B (file:///d:/Microsoft%20VS%20Code/resources/app/out/vs/workbench/api/node/extensionHostProcess.js:27:2373)\n",
      "    at D.fire (file:///d:/Microsoft%20VS%20Code/resources/app/out/vs/workbench/api/node/extensionHostProcess.js:27:2591)\n",
      "    at Xn.fire (file:///d:/Microsoft%20VS%20Code/resources/app/out/vs/workbench/api/node/extensionHostProcess.js:29:9458)\n",
      "    at Ah.value (file:///d:/Microsoft%20VS%20Code/resources/app/out/vs/workbench/api/node/extensionHostProcess.js:190:13296)\n",
      "    at D.B (file:///d:/Microsoft%20VS%20Code/resources/app/out/vs/workbench/api/node/extensionHostProcess.js:27:2373)\n",
      "    at D.fire (file:///d:/Microsoft%20VS%20Code/resources/app/out/vs/workbench/api/node/extensionHostProcess.js:27:2591)\n",
      "    at Xn.fire (file:///d:/Microsoft%20VS%20Code/resources/app/out/vs/workbench/api/node/extensionHostProcess.js:29:9458)\n",
      "    at MessagePortMain.<anonymous> (file:///d:/Microsoft%20VS%20Code/resources/app/out/vs/workbench/api/node/extensionHostProcess.js:190:11588)\n",
      "    at MessagePortMain.emit (node:events:518:28)\n",
      "    at Object.MessagePortMain._internalPort.emit (node:electron/js2c/utility_init:2:2949)"
     ]
    }
   ],
   "source": [
    "# 读取电影数据集\n",
    "df = pd.read_csv('movies.csv')\n",
    "print(df.head())"
   ]
  },
  {
   "cell_type": "markdown",
   "id": "6fe9e024",
   "metadata": {
    "id": "6fe9e024"
   },
   "source": [
    "#### 数据清洗"
   ]
  },
  {
   "cell_type": "code",
   "execution_count": null,
   "id": "27a20ed4",
   "metadata": {
    "colab": {
     "base_uri": "https://localhost:8080/"
    },
    "id": "27a20ed4",
    "outputId": "c5e33f7a-5fa9-417d-acda-76b6113d1767"
   },
   "outputs": [
    {
     "name": "stdout",
     "output_type": "stream",
     "text": [
      "title     0\n",
      "year      0\n",
      "genre     0\n",
      "budget    0\n",
      "gross     0\n",
      "rating    0\n",
      "dtype: int64\n"
     ]
    },
    {
     "ename": "Error",
     "evalue": "INVALID mime type: status. Must be in the format \"type/subtype[;optionalparameter]\"",
     "output_type": "error",
     "traceback": [
      "Error: INVALID mime type: status. Must be in the format \"type/subtype[;optionalparameter]\"\n",
      "    at new qs (file:///d:/Microsoft%20VS%20Code/resources/app/out/vs/workbench/api/node/extensionHostProcess.js:106:61432)\n",
      "    at Function.text (file:///d:/Microsoft%20VS%20Code/resources/app/out/vs/workbench/api/node/extensionHostProcess.js:106:61262)\n",
      "    at c (d:\\Microsoft VS Code\\resources\\app\\extensions\\ipynb\\dist\\ipynbMain.node.js:1:140468)\n",
      "    at l (d:\\Microsoft VS Code\\resources\\app\\extensions\\ipynb\\dist\\ipynbMain.node.js:1:141345)\n",
      "    at h (d:\\Microsoft VS Code\\resources\\app\\extensions\\ipynb\\dist\\ipynbMain.node.js:1:141855)\n",
      "    at Array.map (<anonymous>)\n",
      "    at d:\\Microsoft VS Code\\resources\\app\\extensions\\ipynb\\dist\\ipynbMain.node.js:1:138791\n",
      "    at d:\\Microsoft VS Code\\resources\\app\\extensions\\ipynb\\dist\\ipynbMain.node.js:1:139108\n",
      "    at d:\\Microsoft VS Code\\resources\\app\\extensions\\ipynb\\dist\\ipynbMain.node.js:1:139115\n",
      "    at Array.map (<anonymous>)\n",
      "    at e.jupyterNotebookModelToNotebookData (d:\\Microsoft VS Code\\resources\\app\\extensions\\ipynb\\dist\\ipynbMain.node.js:1:138367)\n",
      "    at deserializeNotebook (d:\\Microsoft VS Code\\resources\\app\\extensions\\ipynb\\dist\\ipynbMain.node.js:1:168721)\n",
      "    at xh.$dataToNotebook (file:///d:/Microsoft%20VS%20Code/resources/app/out/vs/workbench/api/node/extensionHostProcess.js:171:8560)\n",
      "    at Uy.S (file:///d:/Microsoft%20VS%20Code/resources/app/out/vs/workbench/api/node/extensionHostProcess.js:29:114979)\n",
      "    at Uy.Q (file:///d:/Microsoft%20VS%20Code/resources/app/out/vs/workbench/api/node/extensionHostProcess.js:29:114759)\n",
      "    at Uy.M (file:///d:/Microsoft%20VS%20Code/resources/app/out/vs/workbench/api/node/extensionHostProcess.js:29:113810)\n",
      "    at Uy.L (file:///d:/Microsoft%20VS%20Code/resources/app/out/vs/workbench/api/node/extensionHostProcess.js:29:113086)\n",
      "    at Ah.value (file:///d:/Microsoft%20VS%20Code/resources/app/out/vs/workbench/api/node/extensionHostProcess.js:29:111750)\n",
      "    at D.B (file:///d:/Microsoft%20VS%20Code/resources/app/out/vs/workbench/api/node/extensionHostProcess.js:27:2373)\n",
      "    at D.fire (file:///d:/Microsoft%20VS%20Code/resources/app/out/vs/workbench/api/node/extensionHostProcess.js:27:2591)\n",
      "    at Xn.fire (file:///d:/Microsoft%20VS%20Code/resources/app/out/vs/workbench/api/node/extensionHostProcess.js:29:9458)\n",
      "    at Ah.value (file:///d:/Microsoft%20VS%20Code/resources/app/out/vs/workbench/api/node/extensionHostProcess.js:190:13296)\n",
      "    at D.B (file:///d:/Microsoft%20VS%20Code/resources/app/out/vs/workbench/api/node/extensionHostProcess.js:27:2373)\n",
      "    at D.fire (file:///d:/Microsoft%20VS%20Code/resources/app/out/vs/workbench/api/node/extensionHostProcess.js:27:2591)\n",
      "    at Xn.fire (file:///d:/Microsoft%20VS%20Code/resources/app/out/vs/workbench/api/node/extensionHostProcess.js:29:9458)\n",
      "    at MessagePortMain.<anonymous> (file:///d:/Microsoft%20VS%20Code/resources/app/out/vs/workbench/api/node/extensionHostProcess.js:190:11588)\n",
      "    at MessagePortMain.emit (node:events:518:28)\n",
      "    at Object.MessagePortMain._internalPort.emit (node:electron/js2c/utility_init:2:2949)"
     ]
    }
   ],
   "source": [
    "# 检查缺失值\n",
    "print(df.isnull().sum())\n",
    "\n",
    "# 删除缺失值\n",
    "df.dropna(inplace=True)\n",
    "\n",
    "# 数据类型转换\n",
    "df['budget'] = df['budget'].astype('int64')\n",
    "df['gross'] = df['gross'].astype('int64')"
   ]
  },
  {
   "cell_type": "markdown",
   "id": "7ef8907d",
   "metadata": {
    "id": "7ef8907d"
   },
   "source": [
    "#### 分析电影收益"
   ]
  },
  {
   "cell_type": "code",
   "execution_count": null,
   "id": "2388f579",
   "metadata": {
    "colab": {
     "base_uri": "https://localhost:8080/",
     "height": 594
    },
    "id": "2388f579",
    "outputId": "848aaffa-84a9-4068-b931-6848144fa087"
   },
   "outputs": [
    {
     "data": {
      "image/png": "[encoded data removed]",
      "text/plain": [
       "<Figure size 640x480 with 1 Axes>"
      ]
     },
     "metadata": {},
     "output_type": "display_data"
    },
    {
     "name": "stdout",
     "output_type": "stream",
     "text": [
      "genre\n",
      "科幻    105000000.0\n",
      "剧情     82500000.0\n",
      "动作     55000000.0\n",
      "爱情     32500000.0\n",
      "喜剧     22500000.0\n",
      "Name: gross, dtype: float64\n"
     ]
    },
    {
     "ename": "Error",
     "evalue": "INVALID mime type: status. Must be in the format \"type/subtype[;optionalparameter]\"",
     "output_type": "error",
     "traceback": [
      "Error: INVALID mime type: status. Must be in the format \"type/subtype[;optionalparameter]\"\n",
      "    at new qs (file:///d:/Microsoft%20VS%20Code/resources/app/out/vs/workbench/api/node/extensionHostProcess.js:106:61432)\n",
      "    at Function.text (file:///d:/Microsoft%20VS%20Code/resources/app/out/vs/workbench/api/node/extensionHostProcess.js:106:61262)\n",
      "    at c (d:\\Microsoft VS Code\\resources\\app\\extensions\\ipynb\\dist\\ipynbMain.node.js:1:140468)\n",
      "    at l (d:\\Microsoft VS Code\\resources\\app\\extensions\\ipynb\\dist\\ipynbMain.node.js:1:141345)\n",
      "    at h (d:\\Microsoft VS Code\\resources\\app\\extensions\\ipynb\\dist\\ipynbMain.node.js:1:141855)\n",
      "    at Array.map (<anonymous>)\n",
      "    at d:\\Microsoft VS Code\\resources\\app\\extensions\\ipynb\\dist\\ipynbMain.node.js:1:138791\n",
      "    at d:\\Microsoft VS Code\\resources\\app\\extensions\\ipynb\\dist\\ipynbMain.node.js:1:139108\n",
      "    at d:\\Microsoft VS Code\\resources\\app\\extensions\\ipynb\\dist\\ipynbMain.node.js:1:139115\n",
      "    at Array.map (<anonymous>)\n",
      "    at e.jupyterNotebookModelToNotebookData (d:\\Microsoft VS Code\\resources\\app\\extensions\\ipynb\\dist\\ipynbMain.node.js:1:138367)\n",
      "    at deserializeNotebook (d:\\Microsoft VS Code\\resources\\app\\extensions\\ipynb\\dist\\ipynbMain.node.js:1:168721)\n",
      "    at xh.$dataToNotebook (file:///d:/Microsoft%20VS%20Code/resources/app/out/vs/workbench/api/node/extensionHostProcess.js:171:8560)\n",
      "    at Uy.S (file:///d:/Microsoft%20VS%20Code/resources/app/out/vs/workbench/api/node/extensionHostProcess.js:29:114979)\n",
      "    at Uy.Q (file:///d:/Microsoft%20VS%20Code/resources/app/out/vs/workbench/api/node/extensionHostProcess.js:29:114759)\n",
      "    at Uy.M (file:///d:/Microsoft%20VS%20Code/resources/app/out/vs/workbench/api/node/extensionHostProcess.js:29:113810)\n",
      "    at Uy.L (file:///d:/Microsoft%20VS%20Code/resources/app/out/vs/workbench/api/node/extensionHostProcess.js:29:113086)\n",
      "    at Ah.value (file:///d:/Microsoft%20VS%20Code/resources/app/out/vs/workbench/api/node/extensionHostProcess.js:29:111750)\n",
      "    at D.B (file:///d:/Microsoft%20VS%20Code/resources/app/out/vs/workbench/api/node/extensionHostProcess.js:27:2373)\n",
      "    at D.fire (file:///d:/Microsoft%20VS%20Code/resources/app/out/vs/workbench/api/node/extensionHostProcess.js:27:2591)\n",
      "    at Xn.fire (file:///d:/Microsoft%20VS%20Code/resources/app/out/vs/workbench/api/node/extensionHostProcess.js:29:9458)\n",
      "    at Ah.value (file:///d:/Microsoft%20VS%20Code/resources/app/out/vs/workbench/api/node/extensionHostProcess.js:190:13296)\n",
      "    at D.B (file:///d:/Microsoft%20VS%20Code/resources/app/out/vs/workbench/api/node/extensionHostProcess.js:27:2373)\n",
      "    at D.fire (file:///d:/Microsoft%20VS%20Code/resources/app/out/vs/workbench/api/node/extensionHostProcess.js:27:2591)\n",
      "    at Xn.fire (file:///d:/Microsoft%20VS%20Code/resources/app/out/vs/workbench/api/node/extensionHostProcess.js:29:9458)\n",
      "    at MessagePortMain.<anonymous> (file:///d:/Microsoft%20VS%20Code/resources/app/out/vs/workbench/api/node/extensionHostProcess.js:190:11588)\n",
      "    at MessagePortMain.emit (node:events:518:28)\n",
      "    at Object.MessagePortMain._internalPort.emit (node:electron/js2c/utility_init:2:2949)"
     ]
    }
   ],
   "source": [
    "# 按年份计算平均票房\n",
    "df.groupby('year')['gross'].mean().plot(kind='line')\n",
    "plt.title('Average Gross by Year')\n",
    "plt.show()\n",
    "\n",
    "# 按类型分析\n",
    "genre_gross = df.groupby('genre')['gross'].mean().sort_values(ascending=False)\n",
    "print(genre_gross)"
   ]
  },
  {
   "cell_type": "markdown",
   "id": "028d4766",
   "metadata": {
    "id": "028d4766"
   },
   "source": [
    "#### 电影评分与收益的关系"
   ]
  },
  {
   "cell_type": "code",
   "execution_count": null,
   "id": "a951c93b",
   "metadata": {
    "colab": {
     "base_uri": "https://localhost:8080/",
     "height": 489
    },
    "id": "a951c93b",
    "outputId": "9bac2130-d18e-4a0b-c93b-1a4fa7bd9aa2"
   },
   "outputs": [
    {
     "data": {
      "image/png": "[encoded data removed]",
      "text/plain": [
       "<Figure size 640x480 with 1 Axes>"
      ]
     },
     "metadata": {},
     "output_type": "display_data"
    },
    {
     "name": "stdout",
     "output_type": "stream",
     "text": [
      "Rating and Gross Correlation: 0.8248062290863347\n"
     ]
    },
    {
     "ename": "Error",
     "evalue": "INVALID mime type: status. Must be in the format \"type/subtype[;optionalparameter]\"",
     "output_type": "error",
     "traceback": [
      "Error: INVALID mime type: status. Must be in the format \"type/subtype[;optionalparameter]\"\n",
      "    at new qs (file:///d:/Microsoft%20VS%20Code/resources/app/out/vs/workbench/api/node/extensionHostProcess.js:106:61432)\n",
      "    at Function.text (file:///d:/Microsoft%20VS%20Code/resources/app/out/vs/workbench/api/node/extensionHostProcess.js:106:61262)\n",
      "    at c (d:\\Microsoft VS Code\\resources\\app\\extensions\\ipynb\\dist\\ipynbMain.node.js:1:140468)\n",
      "    at l (d:\\Microsoft VS Code\\resources\\app\\extensions\\ipynb\\dist\\ipynbMain.node.js:1:141345)\n",
      "    at h (d:\\Microsoft VS Code\\resources\\app\\extensions\\ipynb\\dist\\ipynbMain.node.js:1:141855)\n",
      "    at Array.map (<anonymous>)\n",
      "    at d:\\Microsoft VS Code\\resources\\app\\extensions\\ipynb\\dist\\ipynbMain.node.js:1:138791\n",
      "    at d:\\Microsoft VS Code\\resources\\app\\extensions\\ipynb\\dist\\ipynbMain.node.js:1:139108\n",
      "    at d:\\Microsoft VS Code\\resources\\app\\extensions\\ipynb\\dist\\ipynbMain.node.js:1:139115\n",
      "    at Array.map (<anonymous>)\n",
      "    at e.jupyterNotebookModelToNotebookData (d:\\Microsoft VS Code\\resources\\app\\extensions\\ipynb\\dist\\ipynbMain.node.js:1:138367)\n",
      "    at deserializeNotebook (d:\\Microsoft VS Code\\resources\\app\\extensions\\ipynb\\dist\\ipynbMain.node.js:1:168721)\n",
      "    at xh.$dataToNotebook (file:///d:/Microsoft%20VS%20Code/resources/app/out/vs/workbench/api/node/extensionHostProcess.js:171:8560)\n",
      "    at Uy.S (file:///d:/Microsoft%20VS%20Code/resources/app/out/vs/workbench/api/node/extensionHostProcess.js:29:114979)\n",
      "    at Uy.Q (file:///d:/Microsoft%20VS%20Code/resources/app/out/vs/workbench/api/node/extensionHostProcess.js:29:114759)\n",
      "    at Uy.M (file:///d:/Microsoft%20VS%20Code/resources/app/out/vs/workbench/api/node/extensionHostProcess.js:29:113810)\n",
      "    at Uy.L (file:///d:/Microsoft%20VS%20Code/resources/app/out/vs/workbench/api/node/extensionHostProcess.js:29:113086)\n",
      "    at Ah.value (file:///d:/Microsoft%20VS%20Code/resources/app/out/vs/workbench/api/node/extensionHostProcess.js:29:111750)\n",
      "    at D.B (file:///d:/Microsoft%20VS%20Code/resources/app/out/vs/workbench/api/node/extensionHostProcess.js:27:2373)\n",
      "    at D.fire (file:///d:/Microsoft%20VS%20Code/resources/app/out/vs/workbench/api/node/extensionHostProcess.js:27:2591)\n",
      "    at Xn.fire (file:///d:/Microsoft%20VS%20Code/resources/app/out/vs/workbench/api/node/extensionHostProcess.js:29:9458)\n",
      "    at Ah.value (file:///d:/Microsoft%20VS%20Code/resources/app/out/vs/workbench/api/node/extensionHostProcess.js:190:13296)\n",
      "    at D.B (file:///d:/Microsoft%20VS%20Code/resources/app/out/vs/workbench/api/node/extensionHostProcess.js:27:2373)\n",
      "    at D.fire (file:///d:/Microsoft%20VS%20Code/resources/app/out/vs/workbench/api/node/extensionHostProcess.js:27:2591)\n",
      "    at Xn.fire (file:///d:/Microsoft%20VS%20Code/resources/app/out/vs/workbench/api/node/extensionHostProcess.js:29:9458)\n",
      "    at MessagePortMain.<anonymous> (file:///d:/Microsoft%20VS%20Code/resources/app/out/vs/workbench/api/node/extensionHostProcess.js:190:11588)\n",
      "    at MessagePortMain.emit (node:events:518:28)\n",
      "    at Object.MessagePortMain._internalPort.emit (node:electron/js2c/utility_init:2:2949)"
     ]
    }
   ],
   "source": [
    "# 散点图\n",
    "df.plot.scatter(x='rating', y='gross')\n",
    "plt.title('Rating vs Gross')\n",
    "plt.show()\n",
    "\n",
    "# 计算相关系数\n",
    "correlation = df['rating'].corr(df['gross'])\n",
    "print(f'Rating and Gross Correlation: {correlation}')"
   ]
  },
  {
   "cell_type": "markdown",
   "id": "ed84c04a",
   "metadata": {
    "id": "ed84c04a"
   },
   "source": [
    "## 总结\n",
    "\n",
    "本教程详细介绍了Pandas的核心功能，包括数据创建、查看、选择、清洗、分析和可视化等。通过丰富的示例，您可以实践各个功能模块，加深理解。在实际数据分析工作中，Pandas是不可或缺的强大工具，建议多加练习，熟练掌握。\n",
    "\n",
    "## 参考文献\n",
    "\n",
    "1. [Pandas官方文档](https://pandas.pydata.org/pandas-docs/stable/index.html)\n",
    "2. [Python数据分析](https://www.dataquest.io/blog/pandas-python-tutorial/)\n",
    "3. [Matplotlib官方教程](https://matplotlib.org/stable/tutorials/index.html)\n",
    "\n",
    "# 附录：练习题\n",
    "\n",
    "1. **创建一个DataFrame，包含以下数据，并计算每个人的平均成绩：**\n",
    "\n",
    "   | 姓名 | 数学 | 英语 | 科学 |\n",
    "   | ---- | ---- | ---- | ---- |\n",
    "   | 张三 | 85   | 92   | 78   |\n",
    "   | 李四 | 90   | 88   | 95   |\n",
    "   | 王五 | 70   | 75   | 80   |\n",
    "\n",
    "2. **从`data.csv`文件读取数据，删除含有缺失值的行，并将数据按照某一列进行排序。**\n",
    "\n",
    "3. **使用Pandas和Matplotlib绘制股票的收盘价折线图和交易量柱状图。**\n",
    "\n",
    "4. **使用`groupby`和`agg`函数，计算某数据集按类别分组后的总和、平均值和最大值。**\n",
    "\n",
    "5. **将两个DataFrame按照指定键进行合并，尝试使用不同的`how`参数（如`inner`、`outer`等），观察结果的差异。**\n",
    "\n",
    "希望这些练习题能帮助您巩固所学知识，进一步提升数据分析技能！"
   ]
  }
 ],
 "metadata": {
  "colab": {
   "provenance": []
  },
  "jupytext": {
   "cell_metadata_filter": "-all",
   "main_language": "python",
   "notebook_metadata_filter": "-all"
  },
  "kernelspec": {
   "display_name": "base",
   "language": "python",
   "name": "python3"
  },
  "language_info": {
   "codemirror_mode": {
    "name": "ipython",
    "version": 3
   },
   "file_extension": ".py",
   "mimetype": "text/x-python",
   "name": "python",
   "nbconvert_exporter": "python",
   "pygments_lexer": "ipython3",
   "version": "3.12.7"
  }
 },
 "nbformat": 4,
 "nbformat_minor": 5
}
